{
 "cells": [
  {
   "cell_type": "markdown",
   "id": "sonic-somewhere",
   "metadata": {},
   "source": [
    "# 🥭 Show All Accounts\n",
    "\n",
    "This notebook tries to display information about all Mango margin accounts.\n",
    "\n",
    "It fetches the data from Solana, parses it, and then prints it.\n"
   ]
  },
  {
   "cell_type": "markdown",
   "id": "addressed-society",
   "metadata": {},
   "source": [
    "## How To Use This Page\n",
    "\n",
    "Theo code should be runnable as-is. Just click the >> button in the toolbar above, and you should see output appear below the code."
   ]
  },
  {
   "cell_type": "code",
   "execution_count": null,
   "id": "naked-notion",
   "metadata": {},
   "outputs": [],
   "source": [
    "from pyserum.market import Market\n",
    "\n",
    "from Context import default_context\n",
    "from Classes import AccountInfo, Group, MarginAccount, OpenOrders, TokenAccount\n",
    "\n",
    "def show_all_accounts():\n",
    "    print(\"Context:\", default_context);\n",
    "\n",
    "    group = Group.load(default_context)\n",
    "    print(\"Group:\", group)\n",
    "\n",
    "    markets = list(map(lambda market: Market.load(default_context.client, market.spot), group.markets))\n",
    "    print(\"Markets:\", markets)\n",
    "\n",
    "    prices = group.get_prices()\n",
    "    for price in prices:\n",
    "        print(f\"Price: {price:,.8f}\")\n",
    "\n",
    "    vaults = AccountInfo.load_multiple(default_context, [token.vault for token in group.tokens])\n",
    "    print(\"Vaults:\", vaults)\n",
    "\n",
    "    for index, vault in enumerate(vaults):\n",
    "        token = TokenAccount.parse(vault.data)\n",
    "        decimals = group.tokens[index].decimals\n",
    "        amount = token.amount / (10 ** decimals)\n",
    "        print(f\"Vault token amount[{index}]: {amount:,.8f}\")\n",
    "\n",
    "    import time\n",
    "    start_time = time.time()\n",
    "    print(\"Loading margin accounts...\")\n",
    "    margin_accounts = MarginAccount.load_all_for_group(default_context, default_context.program_id, group)\n",
    "    print(f\"Done. Time taken: {time.time() - start_time}\")\n",
    "\n",
    "    print(\"Loading open orders accounts...\")\n",
    "    # Calling margin_account.load_open_orders() in a loop for each margin account would take a long time.\n",
    "    # We can do better. Load all the relevant OpenOrders accounts, and then just call each margin account\n",
    "    # to map its own OpenOrders from the loaded OpenOrders dictionary.\n",
    "    open_orders = OpenOrders.load_raw_open_orders_accounts(default_context, group)\n",
    "    open_orders_by_address = {key: value for key, value in [(str(address), open_orders_account) for address, open_orders_account in open_orders]}\n",
    "    for margin_account in margin_accounts:\n",
    "        margin_account.install_open_orders_accounts(group, open_orders_by_address)\n",
    "    print(f\"Done. Time taken: {time.time() - start_time}\")\n",
    "\n",
    "    # print(margin_accounts)\n",
    "\n",
    "# show_all_accounts()\n",
    "import cProfile\n",
    "import pstats\n",
    "cProfile.run(\"show_all_accounts()\", sort=pstats.SortKey.TIME)\n"
   ]
  }
 ],
 "metadata": {
  "kernelspec": {
   "display_name": "Python 3",
   "language": "python",
   "name": "python3"
  },
  "language_info": {
   "codemirror_mode": {
    "name": "ipython",
    "version": 3
   },
   "file_extension": ".py",
   "mimetype": "text/x-python",
   "name": "python",
   "nbconvert_exporter": "python",
   "pygments_lexer": "ipython3",
   "version": "3.8.6"
  }
 },
 "nbformat": 4,
 "nbformat_minor": 5
}
