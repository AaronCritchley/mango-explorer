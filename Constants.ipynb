{
 "cells": [
  {
   "cell_type": "markdown",
   "id": "swedish-model",
   "metadata": {},
   "source": [
    "# ⚠ Warning\n",
    "\n",
    "THE SOFTWARE IS PROVIDED \"AS IS\", WITHOUT WARRANTY OF ANY KIND, EXPRESS OR IMPLIED, INCLUDING BUT NOT LIMITED TO THE WARRANTIES OF MERCHANTABILITY, FITNESS FOR A PARTICULAR PURPOSE AND NONINFRINGEMENT. IN NO EVENT SHALL THE AUTHORS OR COPYRIGHT HOLDERS BE LIABLE FOR ANY CLAIM, DAMAGES OR OTHER LIABILITY, WHETHER IN AN ACTION OF CONTRACT, TORT OR OTHERWISE, ARISING FROM, OUT OF OR IN CONNECTION WITH THE SOFTWARE OR THE USE OR OTHER DEALINGS IN THE SOFTWARE.\n"
   ]
  },
  {
   "cell_type": "markdown",
   "id": "lovely-lingerie",
   "metadata": {},
   "source": [
    "# 🥭 Constants [![Binder](https://mybinder.org/badge_logo.svg)](https://mybinder.org/v2/gl/OpinionatedGeek%2Fmango-explorer/HEAD?filepath=Constants.ipynb)\n",
    "\n",
    "_🏃‍♀️ To run this notebook press the ⏩ icon in the toolbar above._\n",
    "\n",
    "This notebook contains some hard-coded values, all kept in one place, as well as the mechanism for loading the Mango `ids.json` file."
   ]
  },
  {
   "cell_type": "code",
   "execution_count": null,
   "id": "centered-aging",
   "metadata": {},
   "outputs": [],
   "source": [
    "import decimal\n",
    "import json\n",
    "\n",
    "from solana.publickey import PublicKey\n"
   ]
  },
  {
   "cell_type": "markdown",
   "id": "economic-limitation",
   "metadata": {},
   "source": [
    "## SYSTEM_PROGRAM_ADDRESS\n",
    "\n",
    "The Solana system program address is always 11111111111111111111111111111111."
   ]
  },
  {
   "cell_type": "code",
   "execution_count": null,
   "id": "incredible-section",
   "metadata": {},
   "outputs": [],
   "source": [
    "SYSTEM_PROGRAM_ADDRESS = PublicKey(\"11111111111111111111111111111111\")"
   ]
  },
  {
   "cell_type": "markdown",
   "id": "tested-efficiency",
   "metadata": {},
   "source": [
    "## SOL_DECIMAL_DIVISOR decimal\n",
    "\n",
    "The divisor to use to turn an integer value of SOLs from an account's `balance` into a value with the correct number of decimal places."
   ]
  },
  {
   "cell_type": "code",
   "execution_count": null,
   "id": "transparent-beast",
   "metadata": {},
   "outputs": [],
   "source": [
    "SOL_DECIMAL_DIVISOR = decimal.Decimal(1000000000)"
   ]
  },
  {
   "cell_type": "markdown",
   "id": "popular-cement",
   "metadata": {},
   "source": [
    "## NUM_TOKENS\n",
    "\n",
    "This is currently hard-coded to 3."
   ]
  },
  {
   "cell_type": "code",
   "execution_count": null,
   "id": "intimate-rocket",
   "metadata": {},
   "outputs": [],
   "source": [
    "NUM_TOKENS = 3\n"
   ]
  },
  {
   "cell_type": "markdown",
   "id": "unusual-company",
   "metadata": {},
   "source": [
    "## NUM_MARKETS\n",
    "\n",
    "There is one fewer market than tokens."
   ]
  },
  {
   "cell_type": "code",
   "execution_count": null,
   "id": "similar-assistant",
   "metadata": {},
   "outputs": [],
   "source": [
    "NUM_MARKETS = NUM_TOKENS - 1\n"
   ]
  },
  {
   "cell_type": "markdown",
   "id": "hidden-contract",
   "metadata": {},
   "source": [
    "## MangoConstants\n",
    "\n",
    "Load all Mango Market's constants from its own `ids.json` file (retrieved from [GitHub](https://raw.githubusercontent.com/blockworks-foundation/mango-client-ts/main/src/ids.json)."
   ]
  },
  {
   "cell_type": "code",
   "execution_count": null,
   "id": "deluxe-logistics",
   "metadata": {},
   "outputs": [],
   "source": [
    "with open(\"ids.json\") as json_file:\n",
    "    MangoConstants = json.load(json_file)\n"
   ]
  },
  {
   "cell_type": "markdown",
   "id": "boxed-pizza",
   "metadata": {},
   "source": [
    "# Running\n",
    "\n",
    "Just try to access some things and print them out to make sure we have loaded properly."
   ]
  },
  {
   "cell_type": "code",
   "execution_count": null,
   "id": "scenic-commitment",
   "metadata": {},
   "outputs": [],
   "source": [
    "if __name__ == \"__main__\":\n",
    "    print(\"System program address:\", SYSTEM_PROGRAM_ADDRESS)\n",
    "    print(\"SOL decimal divisor:\", SOL_DECIMAL_DIVISOR)\n",
    "    print(\"Number of tokens:\", NUM_TOKENS)\n",
    "    print(\"Number of markets:\", NUM_MARKETS)\n",
    "    mango_group = MangoConstants[\"mainnet-beta\"]\n",
    "    print(f\"Mango program ID: {mango_group['mango_program_id']}\")\n",
    "    for oracle in mango_group[\"oracles\"]:\n",
    "        print(f\"Oracle [{oracle}]: {mango_group['oracles'][oracle]}\")\n"
   ]
  }
 ],
 "metadata": {
  "kernelspec": {
   "display_name": "Python 3",
   "language": "python",
   "name": "python3"
  },
  "language_info": {
   "codemirror_mode": {
    "name": "ipython",
    "version": 3
   },
   "file_extension": ".py",
   "mimetype": "text/x-python",
   "name": "python",
   "nbconvert_exporter": "python",
   "pygments_lexer": "ipython3",
   "version": "3.8.6"
  }
 },
 "nbformat": 4,
 "nbformat_minor": 5
}
