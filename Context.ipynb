{
 "cells": [
  {
   "cell_type": "markdown",
   "id": "ceramic-logic",
   "metadata": {},
   "source": [
    "# 🥭 Context\n",
    "\n",
    "A `Context` object to manage Solana connection configuration and Mango groups."
   ]
  },
  {
   "cell_type": "code",
   "execution_count": null,
   "id": "roman-arrival",
   "metadata": {},
   "outputs": [],
   "source": [
    "import os\n",
    "import typing\n",
    "\n",
    "from decimal import Decimal\n",
    "from solana.publickey import PublicKey\n",
    "from solana.rpc.api import Client\n",
    "from solana.rpc.types import MemcmpOpts, TokenAccountOpts\n",
    "from solana.rpc.commitment import Single\n",
    "\n",
    "from Constants import MangoConstants, SOL_DECIMAL_DIVISOR\n"
   ]
  },
  {
   "cell_type": "code",
   "execution_count": null,
   "id": "educational-investment",
   "metadata": {},
   "outputs": [],
   "source": [
    "class Context:\n",
    "    def __init__(self, cluster: str, cluster_url: str, program_id: PublicKey, dex_program_id: PublicKey,\n",
    "                 group_name: str, group_id: PublicKey):\n",
    "        self.cluster: str = cluster\n",
    "        self.cluster_url: str = cluster_url\n",
    "        self.client: Client = Client(cluster_url)\n",
    "        self.program_id: PublicKey = program_id\n",
    "        self.dex_program_id: PublicKey = dex_program_id\n",
    "        self.group_name: str = group_name\n",
    "        self.group_id: PublicKey = group_id\n",
    "        self.commitment = Single\n",
    "        self.encoding:str = \"base64\"\n",
    "\n",
    "\n",
    "    def fetch_sol_balance(self, account_public_key: PublicKey):\n",
    "        result = self.client.get_balance(account_public_key, commitment=self.commitment)\n",
    "        value = Decimal(result[\"result\"][\"value\"])\n",
    "        return value / SOL_DECIMAL_DIVISOR\n",
    "\n",
    "\n",
    "    def fetch_token_balance(self, account_public_key: PublicKey, token_public_key: PublicKey):\n",
    "        opts = TokenAccountOpts(mint = token_public_key)\n",
    "\n",
    "        token_account = self.client.get_token_accounts_by_owner(account_public_key, opts, commitment=self.commitment)\n",
    "        result = self.client.get_token_account_balance(token_account[\"result\"][\"value\"][0][\"pubkey\"], commitment=self.commitment)\n",
    "        value = Decimal(result[\"result\"][\"value\"][\"amount\"])\n",
    "        decimal_places = result[\"result\"][\"value\"][\"decimals\"]\n",
    "        divisor = Decimal(10 ** decimal_places)\n",
    "        return value / divisor\n",
    "\n",
    "\n",
    "    # This should be easier to call and should probably be on the Client object, but we don't\n",
    "    # control that.\n",
    "    def fetch_program_accounts_for_owner(self, program_id: PublicKey, owner: PublicKey):\n",
    "        memcmp_opts = [\n",
    "            MemcmpOpts(offset=40, bytes=str(owner)),\n",
    "        ]\n",
    "\n",
    "        return self.client.get_program_accounts(program_id, memcmp_opts=memcmp_opts, commitment=self.commitment, encoding=self.encoding)\n",
    "\n",
    "\n",
    "    @staticmethod\n",
    "    def _lookup_name_by_address(address: PublicKey, collection: typing.Dict[str, str]) -> typing.Optional[str]:\n",
    "        address_string = str(address)\n",
    "        for stored_name, stored_address in collection.items():\n",
    "            if address_string == stored_address:\n",
    "                return stored_name\n",
    "        return None\n",
    "\n",
    "    def lookup_market_name(self, market_address: PublicKey) -> str:\n",
    "        return Context._lookup_name_by_address(market_address, MangoConstants[self.cluster][\"spot_markets\"]) or \"« Unknown Market »\"\n",
    "\n",
    "    def lookup_oracle_name(self, token_address: PublicKey) -> str:\n",
    "        return Context._lookup_name_by_address(token_address, MangoConstants[self.cluster][\"oracles\"]) or \"« Unknown Oracle »\"\n",
    "\n",
    "    def lookup_token_name(self, token_address: PublicKey) -> str:\n",
    "        return Context._lookup_name_by_address(token_address, MangoConstants[self.cluster][\"symbols\"]) or \"« Unknown Token »\"\n",
    "\n",
    "    def __str__(self) -> str:\n",
    "        return f\"\"\"« Context:\n",
    "    Cluster: {self.cluster}\n",
    "    Cluster URL: {self.cluster_url}\n",
    "    Program ID: {self.program_id}\n",
    "    DEX Program ID: {self.dex_program_id}\n",
    "    Group Name: {self.group_name}\n",
    "    Group ID: {self.group_id}\n",
    "\"\"\"\n",
    "\n",
    "    def __repr__(self) -> str:\n",
    "        return f\"{self}\"\n"
   ]
  },
  {
   "cell_type": "markdown",
   "id": "pointed-minimum",
   "metadata": {},
   "source": [
    "# default_context object\n",
    "\n",
    "A default `Context` object that connects to mainnet, to save having to create one all over the place."
   ]
  },
  {
   "cell_type": "code",
   "execution_count": null,
   "id": "advisory-workstation",
   "metadata": {},
   "outputs": [],
   "source": [
    "default_cluster = os.environ.get(\"CLUSTER\") or 'mainnet-beta'\n",
    "default_cluster_url = os.environ.get(\"CLUSTER_URL\") or MangoConstants[\"cluster_urls\"][default_cluster]\n",
    "\n",
    "default_program_id = PublicKey(MangoConstants[default_cluster][\"mango_program_id\"])\n",
    "default_dex_program_id = PublicKey(MangoConstants[default_cluster][\"dex_program_id\"])\n",
    "\n",
    "default_group_name = os.environ.get(\"GROUP_NAME\") or 'BTC_ETH_USDT'\n",
    "default_group_id = PublicKey(MangoConstants[default_cluster][\"mango_groups\"][default_group_name][\"mango_group_pk\"])\n",
    "\n",
    "default_context = Context(default_cluster, default_cluster_url, default_program_id,\n",
    "                          default_dex_program_id, default_group_name, default_group_id)"
   ]
  },
  {
   "cell_type": "markdown",
   "id": "disciplinary-shield",
   "metadata": {},
   "source": [
    "# Running\n",
    "\n",
    "If running interactively, just print out the default Context object."
   ]
  },
  {
   "cell_type": "code",
   "execution_count": null,
   "id": "welcome-hearing",
   "metadata": {},
   "outputs": [],
   "source": [
    "if __name__ == \"__main__\":\n",
    "    print(default_context)\n",
    "\n",
    "    print(\"Lookup ETH token name result:\", default_context.lookup_token_name(PublicKey(\"2FPyTwcZLUg1MDrwsyoP4D6s1tM7hAkHYRjkNb5w6Pxk\")))\n",
    "    print(\"Lookup BTC/USDC market name result:\", default_context.lookup_market_name(PublicKey(\"CVfYa8RGXnuDBeGmniCcdkBwoLqVxh92xB1JqgRQx3F\")))\n",
    "    # Fill out your account address between the quotes below\n",
    "    MY_ACCOUNT_ADDRESS = \"\"\n",
    "    # Don't edit anything beyond here.\n",
    "\n",
    "    if MY_ACCOUNT_ADDRESS != \"\":\n",
    "        account_key = PublicKey(MY_ACCOUNT_ADDRESS)\n",
    "        print(\"SOL balance:\", default_context.fetch_sol_balance(account_key))\n",
    "        print(\"SRM balance:\", default_context.fetch_token_balance(account_key, PublicKey(\"SRMuApVNdxXokk5GT7XD5cUUgXMBCoAz2LHeuAoKWRt\")))\n"
   ]
  }
 ],
 "metadata": {
  "kernelspec": {
   "display_name": "Python 3",
   "language": "python",
   "name": "python3"
  },
  "language_info": {
   "codemirror_mode": {
    "name": "ipython",
    "version": 3
   },
   "file_extension": ".py",
   "mimetype": "text/x-python",
   "name": "python",
   "nbconvert_exporter": "python",
   "pygments_lexer": "ipython3",
   "version": "3.8.6"
  }
 },
 "nbformat": 4,
 "nbformat_minor": 5
}
