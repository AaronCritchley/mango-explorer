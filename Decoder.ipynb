{
 "cells": [
  {
   "cell_type": "markdown",
   "id": "helpful-command",
   "metadata": {},
   "source": [
    "# 🥭 Decoder\n",
    "\n",
    "Some useful functions for decoding base64 and base58 data."
   ]
  },
  {
   "cell_type": "code",
   "execution_count": null,
   "id": "likely-gender",
   "metadata": {},
   "outputs": [],
   "source": [
    "import base64\n",
    "import base58\n",
    "import typing\n",
    "\n",
    "from solana.publickey import PublicKey\n"
   ]
  },
  {
   "cell_type": "markdown",
   "id": "ruled-percentage",
   "metadata": {},
   "source": [
    "## decode_binary() function\n",
    "\n",
    "A Solana binary data structure may come back as an array with the base64 or base58 encoded data, and a text moniker saying which encoding was used.\n",
    "\n",
    "For example:\n",
    "```\n",
    "['AwAAAAAAAACCaOmpoURMK6XHelGTaFawcuQ/78/15LAemWI8jrt3SRKLy2R9i60eclDjuDS8+p/ZhvTUd9G7uQVOYCsR6+BhmqGCiO6EPYP2PQkf/VRTvw7JjXvIjPFJy06QR1Cq1WfTonHl0OjCkyEf60SD07+MFJu5pVWNFGGEO/8AiAYfduaKdnFTaZEHPcK5Eq72WWHeHg2yIbBF09kyeOhlCJwOoG8O5SgpPV8QOA64ZNV4aKroFfADg6kEy/wWCdp3fv2B8WJgAAAAANVfH3HGtjwAAQAAAAAAAADr8cwFi9UOAAEAAAAAAAAAgfFiYAAAAABo3Dbz0L0oAAEAAAAAAAAAr8K+TvCjCwABAAAAAAAAAIHxYmAAAAAA49t5tVNZhwABAAAAAAAAAAmPtcB1zC8AAQAAAAAAAABIBGiCcyaEZdNhrTyeqUY692vOzzPdHaxAxguht3JQGlkzjtd05dX9LENHkl2z1XvUbTNKZlweypNRetmH0lmQ9VYQAHqylxZVK65gEg85g27YuSyvOBZAjJyRmYU9KdCO1D+4ehdPu9dQB1yI1uh75wShdAaFn2o4qrMYwq3SQQEAAAAAAAAAAiH1PPJKAuh6oGiE35aGhUQhFi/bxgKOudpFv8HEHNCFDy1uAqR6+CTQmradxC1wyyjL+iSft+5XudJWwSdi72NJGmyK96x7Obj/AgAAAAB8RjOEdJow6r9LMhIAAAAAGkNK4CXHh5M2st7PnwAAAE33lx1h8hPFD04AAAAAAAA8YRV3Oa309B2wGwAAAAAAOIlOLmkr6+r605n+AQAAAACgmZmZmZkZAQAAAAAAAAAAMDMzMzMzMwEAAAAAAAAA25D1XcAtRzSuuyx3U+X7aE9vM1EJySU9KprgL0LMJ/vat9+SEEUZuga7O5tTUrcMDYWDg+LYaAWhSQiN2fYk7aCGAQAAAAAAgIQeAAAAAAAA8gUqAQAAAAYGBgICAAAA', 'base64']\n",
    "```\n",
    "Alternatively, it may just be a base58-encoded string.\n",
    "\n",
    "`decode_binary()` decodes the data properly based on which encoding was used."
   ]
  },
  {
   "cell_type": "code",
   "execution_count": null,
   "id": "available-latvia",
   "metadata": {},
   "outputs": [],
   "source": [
    "def decode_binary(encoded: typing.List) -> bytes:\n",
    "    if isinstance(encoded, str):\n",
    "        return base58.b58decode(encoded)\n",
    "    elif encoded[1] == \"base64\":\n",
    "        return base64.b64decode(encoded[0])\n",
    "    else:\n",
    "        return base58.b58decode(encoded[0])\n"
   ]
  },
  {
   "cell_type": "markdown",
   "id": "integrated-appendix",
   "metadata": {},
   "source": [
    "## encode_binary() function\n",
    "\n",
    "Inverse of `decode_binary()`, this takes a binary list and encodes it (using base 64), then returns the encoded string and the string \"base64\" in an array.\n"
   ]
  },
  {
   "cell_type": "code",
   "execution_count": null,
   "id": "seven-buying",
   "metadata": {},
   "outputs": [],
   "source": [
    "def encode_binary(decoded: bytes) -> typing.List:\n",
    "    return [base64.b64encode(decoded), \"base64\"]\n"
   ]
  },
  {
   "cell_type": "markdown",
   "id": "automotive-eating",
   "metadata": {},
   "source": [
    "## encode_key() function\n",
    "\n",
    "Encodes a `PublicKey` in the proper way for RPC calls."
   ]
  },
  {
   "cell_type": "code",
   "execution_count": null,
   "id": "minute-titanium",
   "metadata": {},
   "outputs": [],
   "source": [
    "def encode_key(key: PublicKey) -> str:\n",
    "    return str(key)\n"
   ]
  },
  {
   "cell_type": "markdown",
   "id": "above-graduate",
   "metadata": {},
   "source": [
    "# Running\n",
    "\n",
    "A simple harness to run the above code.\n"
   ]
  },
  {
   "cell_type": "code",
   "execution_count": null,
   "id": "deadly-norwegian",
   "metadata": {},
   "outputs": [],
   "source": [
    "if __name__ == \"__main__\":\n",
    "    data = decode_binary(['AwAAAAAAAACCaOmpoURMK6XHelGTaFawcuQ/78/15LAemWI8jrt3SRKLy2R9i60eclDjuDS8+p/ZhvTUd9G7uQVOYCsR6+BhmqGCiO6EPYP2PQkf/VRTvw7JjXvIjPFJy06QR1Cq1WfTonHl0OjCkyEf60SD07+MFJu5pVWNFGGEO/8AiAYfduaKdnFTaZEHPcK5Eq72WWHeHg2yIbBF09kyeOhlCJwOoG8O5SgpPV8QOA64ZNV4aKroFfADg6kEy/wWCdp3fv2B8WJgAAAAANVfH3HGtjwAAQAAAAAAAADr8cwFi9UOAAEAAAAAAAAAgfFiYAAAAABo3Dbz0L0oAAEAAAAAAAAAr8K+TvCjCwABAAAAAAAAAIHxYmAAAAAA49t5tVNZhwABAAAAAAAAAAmPtcB1zC8AAQAAAAAAAABIBGiCcyaEZdNhrTyeqUY692vOzzPdHaxAxguht3JQGlkzjtd05dX9LENHkl2z1XvUbTNKZlweypNRetmH0lmQ9VYQAHqylxZVK65gEg85g27YuSyvOBZAjJyRmYU9KdCO1D+4ehdPu9dQB1yI1uh75wShdAaFn2o4qrMYwq3SQQEAAAAAAAAAAiH1PPJKAuh6oGiE35aGhUQhFi/bxgKOudpFv8HEHNCFDy1uAqR6+CTQmradxC1wyyjL+iSft+5XudJWwSdi72NJGmyK96x7Obj/AgAAAAB8RjOEdJow6r9LMhIAAAAAGkNK4CXHh5M2st7PnwAAAE33lx1h8hPFD04AAAAAAAA8YRV3Oa309B2wGwAAAAAAOIlOLmkr6+r605n+AQAAAACgmZmZmZkZAQAAAAAAAAAAMDMzMzMzMwEAAAAAAAAA25D1XcAtRzSuuyx3U+X7aE9vM1EJySU9KprgL0LMJ/vat9+SEEUZuga7O5tTUrcMDYWDg+LYaAWhSQiN2fYk7aCGAQAAAAAAgIQeAAAAAAAA8gUqAQAAAAYGBgICAAAA', 'base64'])\n",
    "    print(f\"Data length (should be 744): {len(data)}\")\n"
   ]
  }
 ],
 "metadata": {
  "kernelspec": {
   "display_name": "Python 3",
   "language": "python",
   "name": "python3"
  },
  "language_info": {
   "codemirror_mode": {
    "name": "ipython",
    "version": 3
   },
   "file_extension": ".py",
   "mimetype": "text/x-python",
   "name": "python",
   "nbconvert_exporter": "python",
   "pygments_lexer": "ipython3",
   "version": "3.8.6"
  }
 },
 "nbformat": 4,
 "nbformat_minor": 5
}
