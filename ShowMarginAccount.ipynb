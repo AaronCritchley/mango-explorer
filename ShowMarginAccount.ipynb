{
 "cells": [
  {
   "cell_type": "markdown",
   "id": "moderate-pursuit",
   "metadata": {},
   "source": [
    "# ⚠ Warning\n",
    "\n",
    "THE SOFTWARE IS PROVIDED \"AS IS\", WITHOUT WARRANTY OF ANY KIND, EXPRESS OR IMPLIED, INCLUDING BUT NOT LIMITED TO THE WARRANTIES OF MERCHANTABILITY, FITNESS FOR A PARTICULAR PURPOSE AND NONINFRINGEMENT. IN NO EVENT SHALL THE AUTHORS OR COPYRIGHT HOLDERS BE LIABLE FOR ANY CLAIM, DAMAGES OR OTHER LIABILITY, WHETHER IN AN ACTION OF CONTRACT, TORT OR OTHERWISE, ARISING FROM, OUT OF OR IN CONNECTION WITH THE SOFTWARE OR THE USE OR OTHER DEALINGS IN THE SOFTWARE.\n",
    "\n",
    "[![Binder](https://mybinder.org/badge_logo.svg)](https://mybinder.org/v2/gl/OpinionatedGeek%2Fmango-explorer/HEAD?filepath=ShowMarginAccount.ipynb) _🏃‍♀️ To run this notebook press the ⏩ icon in the toolbar above._\n",
    "\n",
    "[🥭 Mango Markets](https://mango.markets/) support is available at: [Docs](https://docs.mango.markets/) | [Discord](https://discord.gg/67jySBhxrg) | [Twitter](https://twitter.com/mangomarkets) | [Github](https://github.com/blockworks-foundation) | [Email](mailto:hello@blockworks.foundation)"
   ]
  },
  {
   "cell_type": "markdown",
   "id": "corporate-bikini",
   "metadata": {},
   "source": [
    "# 🥭 Show Margin Account\n",
    "\n",
    "This notebook tries to display information about a specific Mango Markets margin account.\n",
    "\n",
    "It fetches the data from Solana, parses it, and then prints it.\n"
   ]
  },
  {
   "cell_type": "markdown",
   "id": "chicken-tsunami",
   "metadata": {},
   "source": [
    "## How To Use This Page\n",
    "\n",
    "Enter the public key of the margin account you want to check in the value for `MARGIN_ACCOUNT_TO_LOOK_UP` in the box below, between the double-quote marks. Then run the notebook by choosing 'Run > Run All Cells' from the notebook menu at the top of the page."
   ]
  },
  {
   "cell_type": "code",
   "execution_count": 1,
   "id": "turkish-clearance",
   "metadata": {},
   "outputs": [],
   "source": [
    "MARGIN_ACCOUNT_TO_LOOK_UP = \"8T6eQjLG292M7ydG7FSKyzRdJ7tA6RbLGSbgDEm6FCyi\""
   ]
  },
  {
   "cell_type": "code",
   "execution_count": 2,
   "id": "champion-fitness",
   "metadata": {},
   "outputs": [
    {
     "name": "stdout",
     "output_type": "stream",
     "text": [
      "« MarginAccount: 8T6eQjLG292M7ydG7FSKyzRdJ7tA6RbLGSbgDEm6FCyi\n",
      "    Flags: « MangoAccountFlags: initialized | margin_account »\n",
      "    Has Borrows: False\n",
      "    Owner: 4dgCXC4B6dnrcX3igFujgfzE1fqsEwA4JPcAdvVkysCj\n",
      "    Mango Group: 2oogpTYm1sp6LPZAWD3bp2wsFpnV2kXL1s52yyFhW5vp\n",
      "    Deposits: [0.00000000, 0.00000000, 999,999,854.65725663, 0.00000000, 0.00000000]\n",
      "    Borrows: [0.00000000, 0.00000000, 0.00000000, 0.00000000, 0.00000000]\n",
      "    Mango Open Orders: [None, None, None, None]\n",
      "»\n"
     ]
    }
   ],
   "source": [
    "if __name__ == \"__main__\":\n",
    "    import mango\n",
    "    import solana.publickey as publickey\n",
    "\n",
    "    if MARGIN_ACCOUNT_TO_LOOK_UP == \"\":\n",
    "        raise Exception(\"No account to look up - try setting the variable ACCOUNT_TO_LOOK_UP to an account public key.\")\n",
    "\n",
    "    margin_account = mango.MarginAccount.load(mango.default_context, publickey.PublicKey(MARGIN_ACCOUNT_TO_LOOK_UP))\n",
    "    print(margin_account)\n"
   ]
  }
 ],
 "metadata": {
  "kernelspec": {
   "display_name": "Python 3",
   "language": "python",
   "name": "python3"
  },
  "language_info": {
   "codemirror_mode": {
    "name": "ipython",
    "version": 3
   },
   "file_extension": ".py",
   "mimetype": "text/x-python",
   "name": "python",
   "nbconvert_exporter": "python",
   "pygments_lexer": "ipython3",
   "version": "3.8.6"
  },
  "metadata": {
   "interpreter": {
    "hash": "ac2eaa0ea0ebeafcc7822e65e46aa9d4f966f30b695406963e145ea4a91cd4fc"
   }
  },
  "toc": {
   "base_numbering": 1,
   "nav_menu": {},
   "number_sections": true,
   "sideBar": true,
   "skip_h1_title": false,
   "title_cell": "Table of Contents",
   "title_sidebar": "Contents",
   "toc_cell": false,
   "toc_position": {},
   "toc_section_display": true,
   "toc_window_display": true
  },
  "varInspector": {
   "cols": {
    "lenName": 16,
    "lenType": 16,
    "lenVar": 40
   },
   "kernels_config": {
    "python": {
     "delete_cmd_postfix": "",
     "delete_cmd_prefix": "del ",
     "library": "var_list.py",
     "varRefreshCmd": "print(var_dic_list())"
    },
    "r": {
     "delete_cmd_postfix": ") ",
     "delete_cmd_prefix": "rm(",
     "library": "var_list.r",
     "varRefreshCmd": "cat(var_dic_list()) "
    }
   },
   "types_to_exclude": [
    "module",
    "function",
    "builtin_function_or_method",
    "instance",
    "_Feature"
   ],
   "window_display": false
  }
 },
 "nbformat": 4,
 "nbformat_minor": 5
}
