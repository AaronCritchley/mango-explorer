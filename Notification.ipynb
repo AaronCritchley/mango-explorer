{
 "cells": [
  {
   "cell_type": "markdown",
   "id": "incorporated-johns",
   "metadata": {},
   "source": [
    "# ⚠ Warning\n",
    "\n",
    "THE SOFTWARE IS PROVIDED \"AS IS\", WITHOUT WARRANTY OF ANY KIND, EXPRESS OR IMPLIED, INCLUDING BUT NOT LIMITED TO THE WARRANTIES OF MERCHANTABILITY, FITNESS FOR A PARTICULAR PURPOSE AND NONINFRINGEMENT. IN NO EVENT SHALL THE AUTHORS OR COPYRIGHT HOLDERS BE LIABLE FOR ANY CLAIM, DAMAGES OR OTHER LIABILITY, WHETHER IN AN ACTION OF CONTRACT, TORT OR OTHERWISE, ARISING FROM, OUT OF OR IN CONNECTION WITH THE SOFTWARE OR THE USE OR OTHER DEALINGS IN THE SOFTWARE.\n",
    "\n",
    "[![Binder](https://mybinder.org/badge_logo.svg)](https://mybinder.org/v2/gl/OpinionatedGeek%2Fmango-explorer/HEAD?filepath=Notification.ipynb) _🏃‍♀️ To run this notebook press the ⏩ icon in the toolbar above._\n",
    "\n",
    "[🥭 Mango Markets](https://mango.markets/) support is available at: [Docs](https://docs.mango.markets/) | [Discord](https://discord.gg/67jySBhxrg) | [Twitter](https://twitter.com/mangomarkets) | [Github](https://github.com/blockworks-foundation) | [Email](mailto:hello@blockworks.foundation)"
   ]
  },
  {
   "cell_type": "markdown",
   "id": "promotional-indianapolis",
   "metadata": {},
   "source": [
    "# 🥭 Notification\n",
    "\n",
    "This notebook contains code to send arbitrary notifications.\n"
   ]
  },
  {
   "cell_type": "code",
   "execution_count": null,
   "id": "satisfactory-professor",
   "metadata": {
    "jupyter": {
     "source_hidden": true
    }
   },
   "outputs": [],
   "source": [
    "import abc\n",
    "import logging\n",
    "import requests\n",
    "import typing\n"
   ]
  },
  {
   "cell_type": "markdown",
   "id": "accompanied-kenya",
   "metadata": {},
   "source": [
    "# NotificationTarget class\n",
    "\n",
    "This base class is the root of the different notification mechanisms.\n",
    "\n",
    "Derived classes should override `send_notification()` to implement their own sending logic.\n",
    "\n",
    "Derived classes should not override `send()` since that is the interface outside classes call and it's used to ensure `NotificationTarget`s don't throw an exception when sending."
   ]
  },
  {
   "cell_type": "code",
   "execution_count": null,
   "id": "lesser-associate",
   "metadata": {},
   "outputs": [],
   "source": [
    "class NotificationTarget(metaclass=abc.ABCMeta):\n",
    "    def __init__(self):\n",
    "        self.logger: logging.Logger = logging.getLogger(self.__class__.__name__)\n",
    "\n",
    "    def send(self, item: typing.Any) -> None:\n",
    "        try:\n",
    "            self.send_notification(item)\n",
    "        except Exception as exception:\n",
    "            self.logger.error(f\"Error sending {item} - {self} - {exception}\")\n",
    "\n",
    "    @abc.abstractmethod\n",
    "    def send_notification(self, item: typing.Any) -> None:\n",
    "        raise NotImplementedError(\"NotificationTarget.send() is not implemented on the base type.\")\n",
    "\n",
    "    def __repr__(self) -> str:\n",
    "        return f\"{self}\"\n"
   ]
  },
  {
   "cell_type": "markdown",
   "id": "rocky-gateway",
   "metadata": {},
   "source": [
    "# TelegramNotificationTarget class\n",
    "\n",
    "The `TelegramNotificationTarget` sends messages to Telegram.\n",
    "\n",
    "The format for the telegram notification is:\n",
    "1. The word 'telegram'\n",
    "2. A colon ':'\n",
    "3. The chat ID\n",
    "4. An '@' symbol\n",
    "5. The bot token\n",
    "\n",
    "For example:\n",
    "```\n",
    "telegram:<CHAT-ID>@<BOT-TOKEN>\n",
    "```\n",
    "\n",
    "The [Telegram instructions to create a bot](https://core.telegram.org/bots#creating-a-new-bot) show you how to create the bot token."
   ]
  },
  {
   "cell_type": "code",
   "execution_count": null,
   "id": "grave-serve",
   "metadata": {},
   "outputs": [],
   "source": [
    "class TelegramNotificationTarget(NotificationTarget):\n",
    "    def __init__(self, address):\n",
    "        super().__init__()\n",
    "        chat_id, bot_id = address.split(\"@\", 1)\n",
    "        self.chat_id = chat_id\n",
    "        self.bot_id = bot_id\n",
    "\n",
    "    def send_notification(self, item: typing.Any):\n",
    "        payload = {\"disable_notification\": True, \"chat_id\": self.chat_id, \"text\": str(item)}\n",
    "        url = f\"https://api.telegram.org/bot{self.bot_id}/sendMessage\"\n",
    "        headers = {\"Content-Type\": \"application/json\"}\n",
    "        requests.post(url, json=payload, headers=headers)\n",
    "\n",
    "    def __str__(self) -> str:\n",
    "        return f\"Telegram chat ID: {self.chat_id}\"\n"
   ]
  },
  {
   "cell_type": "markdown",
   "id": "imported-wallace",
   "metadata": {},
   "source": [
    "# DiscordNotificationTarget class\n",
    "\n",
    "The `DiscordNotificationTarget` sends messages to Discord.\n"
   ]
  },
  {
   "cell_type": "code",
   "execution_count": null,
   "id": "medium-loading",
   "metadata": {},
   "outputs": [],
   "source": [
    "class DiscordNotificationTarget(NotificationTarget):\n",
    "    def __init__(self, address):\n",
    "        super().__init__()\n",
    "        self.address = address\n",
    "\n",
    "    def send_notification(self, item: typing.Any):\n",
    "        payload = {\n",
    "            \"content\": str(item)\n",
    "        }\n",
    "        url = self.address\n",
    "        headers = {\"Content-Type\": \"application/json\"}\n",
    "        requests.post(url, json=payload, headers=headers)\n",
    "\n",
    "    def __str__(self) -> str:\n",
    "        return \"Discord webhook\"\n"
   ]
  },
  {
   "cell_type": "markdown",
   "id": "further-decline",
   "metadata": {},
   "source": [
    "# parse_subscription_target() function\n",
    "\n",
    "`parse_subscription_target()` takes a parameter as a string and returns a notification target.\n",
    "\n",
    "This is most likely used when parsing command-line arguments - this function can be used in the `type` parameter of an `add_argument()` call."
   ]
  },
  {
   "cell_type": "code",
   "execution_count": null,
   "id": "stuffed-exposure",
   "metadata": {},
   "outputs": [],
   "source": [
    "def parse_subscription_target(target):\n",
    "    protocol, address = target.split(\":\", 1)\n",
    "\n",
    "    if protocol == \"telegram\":\n",
    "        return TelegramNotificationTarget(address)\n",
    "    elif protocol == \"discord\":\n",
    "        return DiscordNotificationTarget(address)\n",
    "    else:\n",
    "        raise Exception(f\"Unknown protocol: {protocol}\")\n"
   ]
  },
  {
   "cell_type": "markdown",
   "id": "understanding-nevada",
   "metadata": {},
   "source": [
    "# ✅ Testing"
   ]
  },
  {
   "cell_type": "code",
   "execution_count": null,
   "id": "mediterranean-caribbean",
   "metadata": {},
   "outputs": [],
   "source": [
    "def _notebook_tests():\n",
    "    test_target = parse_subscription_target(\"telegram:chat@bot\")\n",
    "\n",
    "    assert(test_target.chat_id == \"chat\")\n",
    "    assert(test_target.bot_id == \"bot\")\n",
    "\n",
    "\n",
    "_notebook_tests()\n",
    "del _notebook_tests"
   ]
  },
  {
   "cell_type": "markdown",
   "id": "previous-finding",
   "metadata": {},
   "source": [
    "# 🏃 Running\n",
    "\n",
    "A few quick examples to show how to use these functions"
   ]
  },
  {
   "cell_type": "code",
   "execution_count": null,
   "id": "regional-cycling",
   "metadata": {},
   "outputs": [],
   "source": [
    "if __name__ == \"__main__\":\n",
    "    test_target = parse_subscription_target(\"telegram:chat@bot\")\n",
    "    print(test_target)\n"
   ]
  }
 ],
 "metadata": {
  "kernelspec": {
   "display_name": "Python 3",
   "language": "python",
   "name": "python3"
  },
  "language_info": {
   "codemirror_mode": {
    "name": "ipython",
    "version": 3
   },
   "file_extension": ".py",
   "mimetype": "text/x-python",
   "name": "python",
   "nbconvert_exporter": "python",
   "pygments_lexer": "ipython3",
   "version": "3.8.6"
  },
  "toc": {
   "base_numbering": 1,
   "nav_menu": {},
   "number_sections": true,
   "sideBar": true,
   "skip_h1_title": false,
   "title_cell": "Table of Contents",
   "title_sidebar": "Contents",
   "toc_cell": false,
   "toc_position": {},
   "toc_section_display": true,
   "toc_window_display": true
  },
  "varInspector": {
   "cols": {
    "lenName": 16,
    "lenType": 16,
    "lenVar": 40
   },
   "kernels_config": {
    "python": {
     "delete_cmd_postfix": "",
     "delete_cmd_prefix": "del ",
     "library": "var_list.py",
     "varRefreshCmd": "print(var_dic_list())"
    },
    "r": {
     "delete_cmd_postfix": ") ",
     "delete_cmd_prefix": "rm(",
     "library": "var_list.r",
     "varRefreshCmd": "cat(var_dic_list()) "
    }
   },
   "types_to_exclude": [
    "module",
    "function",
    "builtin_function_or_method",
    "instance",
    "_Feature"
   ],
   "window_display": false
  }
 },
 "nbformat": 4,
 "nbformat_minor": 5
}
