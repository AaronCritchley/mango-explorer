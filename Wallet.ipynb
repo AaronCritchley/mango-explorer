{
 "cells": [
  {
   "cell_type": "markdown",
   "id": "first-eclipse",
   "metadata": {},
   "source": [
    "# ⚠ Warning\n",
    "\n",
    "THE SOFTWARE IS PROVIDED \"AS IS\", WITHOUT WARRANTY OF ANY KIND, EXPRESS OR IMPLIED, INCLUDING BUT NOT LIMITED TO THE WARRANTIES OF MERCHANTABILITY, FITNESS FOR A PARTICULAR PURPOSE AND NONINFRINGEMENT. IN NO EVENT SHALL THE AUTHORS OR COPYRIGHT HOLDERS BE LIABLE FOR ANY CLAIM, DAMAGES OR OTHER LIABILITY, WHETHER IN AN ACTION OF CONTRACT, TORT OR OTHERWISE, ARISING FROM, OUT OF OR IN CONNECTION WITH THE SOFTWARE OR THE USE OR OTHER DEALINGS IN THE SOFTWARE."
   ]
  },
  {
   "cell_type": "markdown",
   "id": "fuzzy-rainbow",
   "metadata": {},
   "source": [
    "# 🥭 Wallet [![Binder](https://mybinder.org/badge_logo.svg)](https://mybinder.org/v2/gl/OpinionatedGeek%2Fmango-explorer/HEAD?filepath=Wallet.ipynb)\n",
    "\n",
    "_🏃‍♀️ To run this notebook press the ⏩ icon in the toolbar above._\n",
    "\n",
    "This notebook holds all the code around handling a wallet of private and public keys.\n",
    "\n",
    "**Please be careful with your private keys, and don't provide them to any code if you are not 100% confident you know what it will do.**"
   ]
  },
  {
   "cell_type": "code",
   "execution_count": null,
   "id": "naked-console",
   "metadata": {
    "jupyter": {
     "source_hidden": true
    }
   },
   "outputs": [],
   "source": [
    "import json\n",
    "import typing\n",
    "\n",
    "from solana.account import Account\n",
    "from solana.publickey import PublicKey\n",
    "\n",
    "from Context import AccountInfo, Context\n"
   ]
  },
  {
   "cell_type": "markdown",
   "id": "northern-bangkok",
   "metadata": {},
   "source": [
    "## Wallet class\n",
    "\n",
    "The `Wallet` class wraps our understanding of saving and loading keys, and creating the appropriate Solana `Account` object.\n",
    "\n",
    "To load a private key from a file, the file must be a JSON-formatted text file with a root array of the 64 bytes making up the secret key.\n",
    "\n",
    "For example:\n",
    "```\n",
    "[200,48,184,13... for another 60 bytes...]\n",
    "```\n",
    "**TODO:** It would be good to be able to load a `Wallet` from a mnemonic string. I haven't yet found a Python library that can generate a BIP44 derived seed for Solana that matches the derived seeds created by Sollet and Ledger."
   ]
  },
  {
   "cell_type": "code",
   "execution_count": null,
   "id": "central-central",
   "metadata": {},
   "outputs": [],
   "source": [
    "class Wallet:\n",
    "    def __init__(self, secret_key):\n",
    "        self.secret_key = secret_key[0:32]\n",
    "        self.account = Account(self.secret_key)\n",
    "\n",
    "    @property\n",
    "    def address(self) -> PublicKey:\n",
    "        return self.account.public_key()\n",
    "\n",
    "    def fetch_largest_token_account(self, context: Context, token_mint: PublicKey) -> typing.Optional[AccountInfo]:\n",
    "        largest_account = context.fetch_largest_token_account_for_owner(self.address, token_mint)\n",
    "        return largest_account\n",
    "\n",
    "    @staticmethod\n",
    "    def load(filename: str = \"id.json\") -> \"Wallet\":\n",
    "        with open(filename) as json_file:\n",
    "            data = json.load(json_file)\n",
    "            return Wallet(data)\n"
   ]
  },
  {
   "cell_type": "markdown",
   "id": "appropriate-marsh",
   "metadata": {},
   "source": [
    "# Running\n",
    "\n",
    "A simple harness to load a `Wallet` if the `wallet.json` file exists, and print out its `PublicKey`.\n",
    "\n",
    "**Please be careful with your private keys!**"
   ]
  },
  {
   "cell_type": "code",
   "execution_count": null,
   "id": "approved-architecture",
   "metadata": {},
   "outputs": [],
   "source": [
    "if __name__ == \"__main__\":\n",
    "    import os.path\n",
    "    from Context import default_context\n",
    "\n",
    "    filename = \"id.json\"\n",
    "\n",
    "    if not os.path.isfile(filename):\n",
    "        print(f\"Wallet file '{filename}' is not present.\")\n",
    "    else:\n",
    "        wallet = Wallet.load(filename)\n",
    "        print(\"Wallet address:\", wallet.address)\n",
    "        # SRMuApVNdxXokk5GT7XD5cUUgXMBCoAz2LHeuAoKWRt is Serum's mint address\n",
    "        print(wallet.fetch_largest_token_account(default_context, PublicKey(\"SRMuApVNdxXokk5GT7XD5cUUgXMBCoAz2LHeuAoKWRt\")))\n"
   ]
  }
 ],
 "metadata": {
  "kernelspec": {
   "display_name": "Python 3",
   "language": "python",
   "name": "python3"
  },
  "language_info": {
   "codemirror_mode": {
    "name": "ipython",
    "version": 3
   },
   "file_extension": ".py",
   "mimetype": "text/x-python",
   "name": "python",
   "nbconvert_exporter": "python",
   "pygments_lexer": "ipython3",
   "version": "3.8.6"
  }
 },
 "nbformat": 4,
 "nbformat_minor": 5
}
