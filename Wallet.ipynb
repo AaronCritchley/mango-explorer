{
 "cells": [
  {
   "cell_type": "markdown",
   "id": "listed-completion",
   "metadata": {},
   "source": [
    "# ⚠ Warning\n",
    "\n",
    "THE SOFTWARE IS PROVIDED \"AS IS\", WITHOUT WARRANTY OF ANY KIND, EXPRESS OR IMPLIED, INCLUDING BUT NOT LIMITED TO THE WARRANTIES OF MERCHANTABILITY, FITNESS FOR A PARTICULAR PURPOSE AND NONINFRINGEMENT. IN NO EVENT SHALL THE AUTHORS OR COPYRIGHT HOLDERS BE LIABLE FOR ANY CLAIM, DAMAGES OR OTHER LIABILITY, WHETHER IN AN ACTION OF CONTRACT, TORT OR OTHERWISE, ARISING FROM, OUT OF OR IN CONNECTION WITH THE SOFTWARE OR THE USE OR OTHER DEALINGS IN THE SOFTWARE."
   ]
  },
  {
   "cell_type": "markdown",
   "id": "composite-classification",
   "metadata": {},
   "source": [
    "# 🥭 Wallet [![Binder](https://mybinder.org/badge_logo.svg)](https://mybinder.org/v2/gl/OpinionatedGeek%2Fmango-explorer/HEAD?filepath=Wallet.ipynb)\n",
    "\n",
    "_🏃‍♀️ To run this notebook press the ⏩ icon in the toolbar above._\n",
    "\n",
    "This notebook holds all the code around handling a wallet of private and public keys.\n",
    "\n",
    "**Please be careful with your private keys, and don't provide them to any code if you are not 100% confident you know what it will do.**"
   ]
  },
  {
   "cell_type": "markdown",
   "id": "tropical-commodity",
   "metadata": {},
   "source": [
    "## Wallet class\n",
    "\n",
    "The `Wallet` class wraps our understanding of saving and loading keys, and creating the appropriate Solana `Account` object.\n",
    "\n",
    "To load a private key from a file, the file must be a JSON-formatted text file with a root object with a property `secretKey` which contains a `string` of the key encoded in base58.\n",
    "\n",
    "For example:\n",
    "```\n",
    "{\n",
    "    \"secretKey\": \"base-58-encoded-private-key-goes-here\",\n",
    "}\n",
    "```\n",
    "**TODO:** It would be good to be able to load a `Wallet` from a mnemonic string. I haven't yet found a Python library that can generate a BIP44 derived seed for Solana that matches the derived seeds created by Sollet and Ledger."
   ]
  },
  {
   "cell_type": "code",
   "execution_count": null,
   "id": "considerable-penetration",
   "metadata": {},
   "outputs": [],
   "source": [
    "import json\n",
    "\n",
    "from solana.account import Account\n",
    "\n",
    "from Decoder import decode_binary\n",
    "\n",
    "class Wallet:\n",
    "    def __init__(self, secret_key):\n",
    "        self.secret_key = secret_key[0:32]\n",
    "        self.account = Account(self.secret_key)\n",
    "\n",
    "    @property\n",
    "    def public_key(self):\n",
    "        return self.account.public_key()\n",
    "\n",
    "    @staticmethod\n",
    "    def from_string(secret_key_string: str) -> \"Wallet\":\n",
    "        secret_key = decode_binary(secret_key_string)\n",
    "        return Wallet(secret_key)\n",
    "\n",
    "    @staticmethod\n",
    "    def load(filename: str = \"wallet.json\") -> \"Wallet\":\n",
    "        with open(filename) as json_file:\n",
    "            data = json.load(json_file)\n",
    "            secret_key_string = data[\"secretKey\"]\n",
    "            return Wallet.from_string(secret_key_string)\n"
   ]
  },
  {
   "cell_type": "markdown",
   "id": "confirmed-reach",
   "metadata": {},
   "source": [
    "# Running\n",
    "\n",
    "A simple harness to load a `Wallet` if the `wallet.json` file exists, and print out its `PublicKey`.\n",
    "\n",
    "**Please be careful with your private keys!**"
   ]
  },
  {
   "cell_type": "code",
   "execution_count": null,
   "id": "northern-salem",
   "metadata": {},
   "outputs": [],
   "source": [
    "if __name__ == \"__main__\":\n",
    "    import os.path\n",
    "    filename = \"wallet.json\"\n",
    "\n",
    "    if not os.path.isfile(filename):\n",
    "        print(f\"Wallet file '{filename}' is not present.\")\n",
    "    else:\n",
    "        wallet = Wallet.load(filename)\n",
    "        display(wallet.public_key)\n"
   ]
  }
 ],
 "metadata": {
  "kernelspec": {
   "display_name": "Python 3",
   "language": "python",
   "name": "python3"
  },
  "language_info": {
   "codemirror_mode": {
    "name": "ipython",
    "version": 3
   },
   "file_extension": ".py",
   "mimetype": "text/x-python",
   "name": "python",
   "nbconvert_exporter": "python",
   "pygments_lexer": "ipython3",
   "version": "3.8.6"
  }
 },
 "nbformat": 4,
 "nbformat_minor": 5
}
