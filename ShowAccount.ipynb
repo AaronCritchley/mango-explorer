{
 "cells": [
  {
   "cell_type": "markdown",
   "metadata": {},
   "source": [
    "# ⚠ Warning\n",
    "\n",
    "THE SOFTWARE IS PROVIDED \"AS IS\", WITHOUT WARRANTY OF ANY KIND, EXPRESS OR IMPLIED, INCLUDING BUT NOT LIMITED TO THE WARRANTIES OF MERCHANTABILITY, FITNESS FOR A PARTICULAR PURPOSE AND NONINFRINGEMENT. IN NO EVENT SHALL THE AUTHORS OR COPYRIGHT HOLDERS BE LIABLE FOR ANY CLAIM, DAMAGES OR OTHER LIABILITY, WHETHER IN AN ACTION OF CONTRACT, TORT OR OTHERWISE, ARISING FROM, OUT OF OR IN CONNECTION WITH THE SOFTWARE OR THE USE OR OTHER DEALINGS IN THE SOFTWARE.\n",
    "\n",
    "[![Binder](https://mybinder.org/badge_logo.svg)](https://mybinder.org/v2/gh/blockworks-foundation/mango-explorer/v2?filepath=ShowAccount.ipynb) _🏃‍♀️ To run this notebook press the ⏩ icon in the toolbar above._\n",
    "\n",
    "[🥭 Mango Markets](https://mango.markets/) support is available at: [Docs](https://docs.mango.markets/) | [Discord](https://discord.gg/67jySBhxrg) | [Twitter](https://twitter.com/mangomarkets) | [Github](https://github.com/blockworks-foundation) | [Email](mailto:hello@blockworks.foundation)"
   ]
  },
  {
   "cell_type": "markdown",
   "metadata": {},
   "source": [
    "# 🥭 Show My Accounts\n",
    "\n",
    "This notebook tries to display information about all Mango margin accounts that belong to a specified account.\n",
    "\n",
    "It fetches the data from Solana, parses it, and then prints it.\n"
   ]
  },
  {
   "cell_type": "markdown",
   "metadata": {},
   "source": [
    "## How To Use This Page\n",
    "\n",
    "Enter the public key of the account you want to check in the value for `ACCOUNT_TO_LOOK_UP` in the box below, between the double-quote marks. Then run the notebook by choosing 'Run > Run All Cells' from the notebook menu at the top of the page."
   ]
  },
  {
   "cell_type": "code",
   "execution_count": null,
   "metadata": {},
   "outputs": [],
   "source": [
    "ACCOUNT_TO_LOOK_UP = \"\""
   ]
  },
  {
   "cell_type": "code",
   "execution_count": null,
   "metadata": {},
   "outputs": [],
   "source": [
    "if __name__ == \"__main__\":\n",
    "    import mango\n",
    "    import solana.publickey as publickey\n",
    "\n",
    "    if ACCOUNT_TO_LOOK_UP == \"\":\n",
    "        raise Exception(\"No account to look up - try setting the variable ACCOUNT_TO_LOOK_UP to an account public key.\")\n",
    "\n",
    "    context = mango.Context.default()\n",
    "    # print(\"Context:\", context)\n",
    "\n",
    "    root_account_key = publickey.PublicKey(ACCOUNT_TO_LOOK_UP)\n",
    "    root_account = mango.AccountInfo.load(context, root_account_key)\n",
    "    if root_account is None:\n",
    "        raise Exception(f\"Account '{root_account_key}' could not be found.\")\n",
    "\n",
    "    print(\"Account:\", root_account)\n",
    "    if root_account.owner != mango.SYSTEM_PROGRAM_ADDRESS:\n",
    "        raise Exception(f\"Account '{root_account_key}' is not a root user account.\")\n",
    "\n",
    "    scout = mango.AccountScout()\n",
    "    group = mango.Group.load(context)\n",
    "    scout_report = scout.verify_account_prepared_for_group(context, group, root_account_key)\n",
    "    print(scout_report)\n",
    "\n",
    "    print(\"Balances:\")\n",
    "    mango.TokenValue.report(group.fetch_balances(context, root_account_key))\n",
    "\n",
    "    prices = group.fetch_token_prices(context)\n",
    "\n",
    "    margin_accounts = mango.MarginAccount.load_all_for_owner(context, root_account_key, group)\n",
    "    print(f\"Account has {len(margin_accounts)} margin account(s).\")\n",
    "    for margin_account in margin_accounts:\n",
    "        print(\"Margin account:\", margin_account)\n",
    "        print(\"Balance sheet totals\", margin_account.get_balance_sheet_totals(group, prices))\n"
   ]
  }
 ],
 "metadata": {
  "interpreter": {
   "hash": "ac2eaa0ea0ebeafcc7822e65e46aa9d4f966f30b695406963e145ea4a91cd4fc"
  },
  "kernelspec": {
   "display_name": "Python 3.9.4 64-bit",
   "name": "python3"
  },
  "language_info": {
   "name": "python",
   "version": ""
  },
  "metadata": {
   "interpreter": {
    "hash": "ac2eaa0ea0ebeafcc7822e65e46aa9d4f966f30b695406963e145ea4a91cd4fc"
   }
  },
  "toc": {
   "base_numbering": 1,
   "nav_menu": {},
   "number_sections": true,
   "sideBar": true,
   "skip_h1_title": false,
   "title_cell": "Table of Contents",
   "title_sidebar": "Contents",
   "toc_cell": false,
   "toc_position": {},
   "toc_section_display": true,
   "toc_window_display": true
  },
  "varInspector": {
   "cols": {
    "lenName": 16,
    "lenType": 16,
    "lenVar": 40
   },
   "kernels_config": {
    "python": {
     "delete_cmd_postfix": "",
     "delete_cmd_prefix": "del ",
     "library": "var_list.py",
     "varRefreshCmd": "print(var_dic_list())"
    },
    "r": {
     "delete_cmd_postfix": ") ",
     "delete_cmd_prefix": "rm(",
     "library": "var_list.r",
     "varRefreshCmd": "cat(var_dic_list()) "
    }
   },
   "types_to_exclude": [
    "module",
    "function",
    "builtin_function_or_method",
    "instance",
    "_Feature"
   ],
   "window_display": false
  }
 },
 "nbformat": 4,
 "nbformat_minor": 5
}
