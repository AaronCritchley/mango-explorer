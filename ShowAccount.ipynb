{
 "cells": [
  {
   "cell_type": "markdown",
   "id": "convenient-namibia",
   "metadata": {},
   "source": [
    "# ⚠ Warning\n",
    "\n",
    "THE SOFTWARE IS PROVIDED \"AS IS\", WITHOUT WARRANTY OF ANY KIND, EXPRESS OR IMPLIED, INCLUDING BUT NOT LIMITED TO THE WARRANTIES OF MERCHANTABILITY, FITNESS FOR A PARTICULAR PURPOSE AND NONINFRINGEMENT. IN NO EVENT SHALL THE AUTHORS OR COPYRIGHT HOLDERS BE LIABLE FOR ANY CLAIM, DAMAGES OR OTHER LIABILITY, WHETHER IN AN ACTION OF CONTRACT, TORT OR OTHERWISE, ARISING FROM, OUT OF OR IN CONNECTION WITH THE SOFTWARE OR THE USE OR OTHER DEALINGS IN THE SOFTWARE.\n",
    "\n",
    "[![Binder](https://mybinder.org/badge_logo.svg)](https://mybinder.org/v2/gl/OpinionatedGeek%2Fmango-explorer/HEAD?filepath=ShowAccount.ipynb) _🏃‍♀️ To run this notebook press the ⏩ icon in the toolbar above._\n",
    "\n",
    "[🥭 Mango Markets](https://mango.markets/) support is available at: [Docs](https://docs.mango.markets/) | [Discord](https://discord.gg/67jySBhxrg) | [Twitter](https://twitter.com/mangomarkets) | [Github](https://github.com/blockworks-foundation) | [Email](mailto:hello@blockworks.foundation)"
   ]
  },
  {
   "cell_type": "markdown",
   "id": "super-height",
   "metadata": {},
   "source": [
    "# 🥭 Show My Accounts\n",
    "\n",
    "This notebook tries to display information about all Mango margin accounts that belong to a specified account.\n",
    "\n",
    "It fetches the data from Solana, parses it, and then prints it.\n"
   ]
  },
  {
   "cell_type": "markdown",
   "id": "public-logan",
   "metadata": {},
   "source": [
    "## How To Use This Page\n",
    "\n",
    "Enter the public key of the account you want to check in the value for `ACCOUNT_TO_LOOK_UP` in the box below, between the double-quote marks. Then run the notebook by choosing 'Run > Run All Cells' from the notebook menu at the top of the page."
   ]
  },
  {
   "cell_type": "code",
   "execution_count": 1,
   "id": "atmospheric-jaguar",
   "metadata": {},
   "outputs": [],
   "source": [
    "ACCOUNT_TO_LOOK_UP = \"4dgCXC4B6dnrcX3igFujgfzE1fqsEwA4JPcAdvVkysCj\""
   ]
  },
  {
   "cell_type": "code",
   "execution_count": 2,
   "id": "injured-index",
   "metadata": {},
   "outputs": [
    {
     "output_type": "stream",
     "name": "stdout",
     "text": [
      "Account: « AccountInfo [4dgCXC4B6dnrcX3igFujgfzE1fqsEwA4JPcAdvVkysCj]:\n",
      "    Owner: 11111111111111111111111111111111\n",
      "    Executable: False\n",
      "    Lamports: 5181046802\n",
      "    Rent Epoch: 188\n",
      "»\n",
      "« ScoutReport [4dgCXC4B6dnrcX3igFujgfzE1fqsEwA4JPcAdvVkysCj]:\n",
      "    Summary:\n",
      "        Found 0 error(s) and 1 warning(s).\n",
      "\n",
      "    Errors:\n",
      "        None\n",
      "\n",
      "    Warnings:\n",
      "        No Serum open orders account for market 'Wrapped Ethereum (Sollet)/USDT' [7dLVkUfBVfCGkFhSXDCq1ukM9usathSgS716t643iFGF]'.\n",
      "\n",
      "    Details:\n",
      "        Account '4dgCXC4B6dnrcX3igFujgfzE1fqsEwA4JPcAdvVkysCj' has 1 Wrapped Bitcoin (Sollet) token accounts with mint '9n4nbM75f5Ui33ZbPYXn59EwSgE8CGsHtAeTH5YFeJ9E'.\n",
      "        Account '4dgCXC4B6dnrcX3igFujgfzE1fqsEwA4JPcAdvVkysCj' has 1 Wrapped Ethereum (Sollet) token accounts with mint '2FPyTwcZLUg1MDrwsyoP4D6s1tM7hAkHYRjkNb5w6Pxk'.\n",
      "        Account '4dgCXC4B6dnrcX3igFujgfzE1fqsEwA4JPcAdvVkysCj' has 1 USDT token accounts with mint 'Es9vMFrzaCERmJfrF4H2FYD4KCoNkY11McCe8BenwNYB'.\n",
      "        Serum open orders account for market 'Wrapped Bitcoin (Sollet)/USDT': « OpenOrders:\n",
      "            Flags: « SerumAccountFlags: initialized | open_orders »\n",
      "            Program ID: 9xQeWvG816bUx9EPjHmaT23yvVM2ZWbrrpZb9PusVFin\n",
      "            Address: E5izPLtf7BSN2ppAb3aoyTVATpbk9CYxjTgTDjW9oF2k\n",
      "            Market: C1EuT9VokAKLiW7i2ASnZUvxDoKuKkCpDDeNxAptuNe4\n",
      "            Owner: 4dgCXC4B6dnrcX3igFujgfzE1fqsEwA4JPcAdvVkysCj\n",
      "            Base Token: 0.00000000 of 0.00000000\n",
      "            Quote Token: 0.00000000 of 0.00000000\n",
      "            Referrer Rebate Accrued: 37053\n",
      "            Orders:\n",
      "                None\n",
      "            Client IDs:\n",
      "                None\n",
      "        »\n",
      "        Margin account: « MarginAccount: DyYvjvX6MenduvMVYyXYDpSCdv1Tuuyv7ZFG4EMjtvf8\n",
      "            Flags: « MangoAccountFlags: initialized | margin_account »\n",
      "            Has Borrows: False\n",
      "            Owner: 4dgCXC4B6dnrcX3igFujgfzE1fqsEwA4JPcAdvVkysCj\n",
      "            Mango Group: 7pVYhpKUHw88neQHxgExSH6cerMZ1Axx1ALQP9sxtvQV\n",
      "            Deposits: [0.00002955, 0.00003799, 9,998,188.61753728]\n",
      "            Borrows: [0.00000000, 0.00000000, 0.00000000]\n",
      "            Mango Open Orders: [« OpenOrders:\n",
      "                Flags: « SerumAccountFlags: initialized | open_orders »\n",
      "                Program ID: 9xQeWvG816bUx9EPjHmaT23yvVM2ZWbrrpZb9PusVFin\n",
      "                Address: 2aGPAoyhMDYV1Ldeutu2mcExqWjPH67bKLMducoz7eEg\n",
      "                Market: C1EuT9VokAKLiW7i2ASnZUvxDoKuKkCpDDeNxAptuNe4\n",
      "                Owner: 6Lce22Pbnb1AkKyGfQArVAsRsHTP31PAhxLv4XaK8i1P\n",
      "                Base Token: 0.00000000 of 0.00000000\n",
      "                Quote Token: 0.00000000 of 0.00000000\n",
      "                Referrer Rebate Accrued: 0\n",
      "                Orders:\n",
      "                    None\n",
      "                Client IDs:\n",
      "                    None\n",
      "            », « OpenOrders:\n",
      "                Flags: « SerumAccountFlags: initialized | open_orders »\n",
      "                Program ID: 9xQeWvG816bUx9EPjHmaT23yvVM2ZWbrrpZb9PusVFin\n",
      "                Address: H7zvXo9nAr3pqM8TC7xgktm9YtKV7RPn6phZS9Sr9y8d\n",
      "                Market: 7dLVkUfBVfCGkFhSXDCq1ukM9usathSgS716t643iFGF\n",
      "                Owner: 6Lce22Pbnb1AkKyGfQArVAsRsHTP31PAhxLv4XaK8i1P\n",
      "                Base Token: 0.00000000 of 0.00000000\n",
      "                Quote Token: 0.00000000 of 0.00000000\n",
      "                Referrer Rebate Accrued: 0\n",
      "                Orders:\n",
      "                    None\n",
      "                Client IDs:\n",
      "                    None\n",
      "            »]\n",
      "        »\n",
      "»\n",
      "Balances:\n",
      "INFO:Group:Fetching prices complete. Time taken: 0.13 seconds.\n",
      "        5.18104680 Pure SOL\n",
      "        0.00000200 Wrapped Bitcoin (Sollet)\n",
      "        0.00000000 Wrapped Ethereum (Sollet)\n",
      "        0.00000000 USDT\n",
      "Account has 1 margin account(s).\n",
      "Margin account: « MarginAccount: DyYvjvX6MenduvMVYyXYDpSCdv1Tuuyv7ZFG4EMjtvf8\n",
      "    Flags: « MangoAccountFlags: initialized | margin_account »\n",
      "    Has Borrows: False\n",
      "    Owner: 4dgCXC4B6dnrcX3igFujgfzE1fqsEwA4JPcAdvVkysCj\n",
      "    Mango Group: 7pVYhpKUHw88neQHxgExSH6cerMZ1Axx1ALQP9sxtvQV\n",
      "    Deposits: [0.00002955, 0.00003799, 9,998,188.61753728]\n",
      "    Borrows: [0.00000000, 0.00000000, 0.00000000]\n",
      "    Mango Open Orders: [« OpenOrders:\n",
      "        Flags: « SerumAccountFlags: initialized | open_orders »\n",
      "        Program ID: 9xQeWvG816bUx9EPjHmaT23yvVM2ZWbrrpZb9PusVFin\n",
      "        Address: 2aGPAoyhMDYV1Ldeutu2mcExqWjPH67bKLMducoz7eEg\n",
      "        Market: C1EuT9VokAKLiW7i2ASnZUvxDoKuKkCpDDeNxAptuNe4\n",
      "        Owner: 6Lce22Pbnb1AkKyGfQArVAsRsHTP31PAhxLv4XaK8i1P\n",
      "        Base Token: 0.00000000 of 0.00000000\n",
      "        Quote Token: 0.00000000 of 0.00000000\n",
      "        Referrer Rebate Accrued: 0\n",
      "        Orders:\n",
      "            None\n",
      "        Client IDs:\n",
      "            None\n",
      "    », « OpenOrders:\n",
      "        Flags: « SerumAccountFlags: initialized | open_orders »\n",
      "        Program ID: 9xQeWvG816bUx9EPjHmaT23yvVM2ZWbrrpZb9PusVFin\n",
      "        Address: H7zvXo9nAr3pqM8TC7xgktm9YtKV7RPn6phZS9Sr9y8d\n",
      "        Market: 7dLVkUfBVfCGkFhSXDCq1ukM9usathSgS716t643iFGF\n",
      "        Owner: 6Lce22Pbnb1AkKyGfQArVAsRsHTP31PAhxLv4XaK8i1P\n",
      "        Base Token: 0.00000000 of 0.00000000\n",
      "        Quote Token: 0.00000000 of 0.00000000\n",
      "        Referrer Rebate Accrued: 0\n",
      "        Orders:\n",
      "            None\n",
      "        Client IDs:\n",
      "            None\n",
      "    »]\n",
      "»\n",
      "Balance sheet totals « BalanceSheet [Wrapped Bitcoin (Sollet)-Wrapped Ethereum (Sollet)-USDT Summary]:\n",
      "    Assets :                  10.01349600\n",
      "    Settled Assets :          10.01349600\n",
      "    Unsettled Assets :         0.00000000\n",
      "    Liabilities :              0.00000000\n",
      "    Value :                   10.01349600\n",
      "    Collateral Ratio :              0.00%\n",
      "»\n",
      "\n"
     ]
    }
   ],
   "source": [
    "if __name__ == \"__main__\":\n",
    "    import base64\n",
    "    import mango\n",
    "    import solana.publickey as publickey\n",
    "\n",
    "    if ACCOUNT_TO_LOOK_UP == \"\":\n",
    "        raise Exception(\"No account to look up - try setting the variable ACCOUNT_TO_LOOK_UP to an account public key.\")\n",
    "\n",
    "    # print(\"Context:\", default_context)\n",
    "\n",
    "    root_account_key = publickey.PublicKey(ACCOUNT_TO_LOOK_UP)\n",
    "    root_account = mango.AccountInfo.load(mango.default_context, root_account_key)\n",
    "    if root_account is None:\n",
    "        raise Exception(f\"Account '{root_account_key}' could not be found.\")\n",
    "\n",
    "    print(\"Account:\", root_account)\n",
    "    if root_account.owner != mango.SYSTEM_PROGRAM_ADDRESS:\n",
    "        raise Exception(f\"Account '{root_account_key}' is not a root user account.\")\n",
    "\n",
    "    scout = mango.AccountScout()\n",
    "    group = mango.Group.load(mango.default_context)\n",
    "    scout_report = scout.verify_account_prepared_for_group(mango.default_context, group, root_account_key)\n",
    "    print(scout_report)\n",
    "\n",
    "    print(\"Balances:\")\n",
    "    mango.TokenValue.report(print, group.fetch_balances(root_account_key))\n",
    "\n",
    "    prices = group.fetch_token_prices()\n",
    "\n",
    "    margin_accounts = mango.MarginAccount.load_all_for_owner(mango.default_context, root_account_key, group)\n",
    "    print(f\"Account has {len(margin_accounts)} margin account(s).\")\n",
    "    for margin_account in margin_accounts:\n",
    "        print(\"Margin account:\", margin_account)\n",
    "        print(\"Balance sheet totals\", margin_account.get_balance_sheet_totals(group, prices))\n"
   ]
  }
 ],
 "metadata": {
  "kernelspec": {
   "name": "python39464bit39b046140da4445497cec6b3acc85e88",
   "display_name": "Python 3.9.4 64-bit"
  },
  "language_info": {
   "codemirror_mode": {
    "name": "ipython",
    "version": 3
   },
   "file_extension": ".py",
   "mimetype": "text/x-python",
   "name": "python",
   "nbconvert_exporter": "python",
   "pygments_lexer": "ipython3",
   "version": "3.9.4"
  },
  "toc": {
   "base_numbering": 1,
   "nav_menu": {},
   "number_sections": true,
   "sideBar": true,
   "skip_h1_title": false,
   "title_cell": "Table of Contents",
   "title_sidebar": "Contents",
   "toc_cell": false,
   "toc_position": {},
   "toc_section_display": true,
   "toc_window_display": true
  },
  "varInspector": {
   "cols": {
    "lenName": 16,
    "lenType": 16,
    "lenVar": 40
   },
   "kernels_config": {
    "python": {
     "delete_cmd_postfix": "",
     "delete_cmd_prefix": "del ",
     "library": "var_list.py",
     "varRefreshCmd": "print(var_dic_list())"
    },
    "r": {
     "delete_cmd_postfix": ") ",
     "delete_cmd_prefix": "rm(",
     "library": "var_list.r",
     "varRefreshCmd": "cat(var_dic_list()) "
    }
   },
   "types_to_exclude": [
    "module",
    "function",
    "builtin_function_or_method",
    "instance",
    "_Feature"
   ],
   "window_display": false
  },
  "metadata": {
   "interpreter": {
    "hash": "ac2eaa0ea0ebeafcc7822e65e46aa9d4f966f30b695406963e145ea4a91cd4fc"
   }
  }
 },
 "nbformat": 4,
 "nbformat_minor": 5
}