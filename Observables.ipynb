{
 "cells": [
  {
   "cell_type": "markdown",
   "id": "unable-value",
   "metadata": {},
   "source": [
    "# ⚠ Warning\n",
    "\n",
    "THE SOFTWARE IS PROVIDED \"AS IS\", WITHOUT WARRANTY OF ANY KIND, EXPRESS OR IMPLIED, INCLUDING BUT NOT LIMITED TO THE WARRANTIES OF MERCHANTABILITY, FITNESS FOR A PARTICULAR PURPOSE AND NONINFRINGEMENT. IN NO EVENT SHALL THE AUTHORS OR COPYRIGHT HOLDERS BE LIABLE FOR ANY CLAIM, DAMAGES OR OTHER LIABILITY, WHETHER IN AN ACTION OF CONTRACT, TORT OR OTHERWISE, ARISING FROM, OUT OF OR IN CONNECTION WITH THE SOFTWARE OR THE USE OR OTHER DEALINGS IN THE SOFTWARE.\n",
    "\n",
    "[![Binder](https://mybinder.org/badge_logo.svg)](https://mybinder.org/v2/gl/OpinionatedGeek%2Fmango-explorer/HEAD?filepath=Observables.ipynb) _🏃‍♀️ To run this notebook press the ⏩ icon in the toolbar above._\n",
    "\n",
    "[🥭 Mango Markets](https://mango.markets/) support is available at: [Docs](https://docs.mango.markets/) | [Discord](https://discord.gg/67jySBhxrg) | [Twitter](https://twitter.com/mangomarkets) | [Github](https://github.com/blockworks-foundation) | [Email](mailto:hello@blockworks.foundation)"
   ]
  },
  {
   "cell_type": "markdown",
   "id": "actual-sentence",
   "metadata": {},
   "source": [
    "# 🥭 Observables\n",
    "\n",
    "This notebook contains some useful shared tools to work with [RX Observables](https://rxpy.readthedocs.io/en/latest/reference_observable.html).\n"
   ]
  },
  {
   "cell_type": "code",
   "execution_count": null,
   "id": "restricted-toddler",
   "metadata": {
    "jupyter": {
     "source_hidden": true
    }
   },
   "outputs": [],
   "source": [
    "import logging\n",
    "import rx\n",
    "import rx.operators as ops\n",
    "import typing\n"
   ]
  },
  {
   "cell_type": "markdown",
   "id": "brutal-provider",
   "metadata": {},
   "source": [
    "# PrintingObserverSubscriber class\n",
    "\n",
    "This class can subscribe to an `Observable` and print out each item."
   ]
  },
  {
   "cell_type": "code",
   "execution_count": null,
   "id": "major-decision",
   "metadata": {},
   "outputs": [],
   "source": [
    "class PrintingObserverSubscriber(rx.core.typing.Observer):\n",
    "    def __init__(self, report_no_output: bool) -> None:\n",
    "        self.report_no_output = report_no_output\n",
    "\n",
    "    def on_next(self, item: typing.Any) -> None:\n",
    "        self.report_no_output = False\n",
    "        print(item)\n",
    "\n",
    "    def on_error(self, ex: Exception) -> None:\n",
    "        self.report_no_output = False\n",
    "        print(ex)\n",
    "\n",
    "    def on_completed(self) -> None:\n",
    "        if self.report_no_output:\n",
    "            print(\"No items to show.\")\n"
   ]
  },
  {
   "cell_type": "markdown",
   "id": "better-belfast",
   "metadata": {},
   "source": [
    "# CollectingObserverSubscriber class\n",
    "\n",
    "This class can subscribe to an `Observable` and collect each item."
   ]
  },
  {
   "cell_type": "code",
   "execution_count": null,
   "id": "strong-thing",
   "metadata": {},
   "outputs": [],
   "source": [
    "class CollectingObserverSubscriber(rx.core.typing.Observer):\n",
    "    def __init__(self) -> None:\n",
    "        self.logger: logging.Logger = logging.getLogger(self.__class__.__name__)\n",
    "        self.collected: typing.List[typing.Any] = []\n",
    "\n",
    "    def on_next(self, item: typing.Any) -> None:\n",
    "        self.collected += [item]\n",
    "\n",
    "    def on_error(self, ex: Exception) -> None:\n",
    "        self.logger.error(f\"Received error: {ex}\")\n",
    "\n",
    "    def on_completed(self) -> None:\n",
    "        pass\n"
   ]
  },
  {
   "cell_type": "markdown",
   "id": "victorian-estate",
   "metadata": {},
   "source": [
    "# CaptureFirstItem class\n",
    "\n",
    "This captures the first item to pass through the pipeline, allowing it to be instpected later."
   ]
  },
  {
   "cell_type": "code",
   "execution_count": null,
   "id": "israeli-relaxation",
   "metadata": {},
   "outputs": [],
   "source": [
    "class CaptureFirstItem:\n",
    "    def __init__(self):\n",
    "        self.captured: typing.Any = None\n",
    "        self.has_captured: bool = False\n",
    "\n",
    "    def capture_if_first(self, item: typing.Any) -> typing.Any:\n",
    "        if not self.has_captured:\n",
    "            self.captured = item\n",
    "            self.has_captured = True\n",
    "\n",
    "        return item\n"
   ]
  },
  {
   "cell_type": "markdown",
   "id": "sacred-queensland",
   "metadata": {},
   "source": [
    "# debug_print_item function\n",
    "\n",
    "This is a handy item that can be added to a pipeline to show what is being passed at that particular stage. For example, this shows how to print the item before and after filtering:\n",
    "```\n",
    "fetch().pipe(\n",
    "    ops.map(debug_print_item(\"Unfiltered:\")),\n",
    "    ops.filter(lambda item: item.something is not None),\n",
    "    ops.map(debug_print_item(\"Filtered:\")),\n",
    "    ops.filter(lambda item: item.something_else()),\n",
    "    ops.map(act_on_item)\n",
    ").subscribe(some_subscriber)\n",
    "```"
   ]
  },
  {
   "cell_type": "code",
   "execution_count": null,
   "id": "smart-tennis",
   "metadata": {},
   "outputs": [],
   "source": [
    "def debug_print_item(title: str) -> typing.Callable[[typing.Any], typing.Any]:\n",
    "    def _debug_print_item(item: typing.Any) -> typing.Any:\n",
    "        print(title, item)\n",
    "        return item\n",
    "    return _debug_print_item\n"
   ]
  },
  {
   "cell_type": "markdown",
   "id": "polar-resort",
   "metadata": {},
   "source": [
    "# Events\n",
    "\n",
    "A strongly(ish)-typed event source that can handle many subscribers."
   ]
  },
  {
   "cell_type": "code",
   "execution_count": null,
   "id": "swedish-single",
   "metadata": {},
   "outputs": [],
   "source": [
    "TEventDatum = typing.TypeVar('TEventDatum')\n",
    "\n",
    "\n",
    "class EventSource(typing.Generic[TEventDatum], rx.subject.Subject):\n",
    "    def __init__(self) -> None:\n",
    "        self.logger: logging.Logger = logging.getLogger(self.__class__.__name__)\n",
    "\n",
    "    def on_next(self, value: typing.Type[TEventDatum]) -> None:\n",
    "        super().on_next(value)\n",
    "\n",
    "    def on_error(self, ex: Exception) -> None:\n",
    "        super().on_error(ex)\n",
    "\n",
    "    def on_completed(self) -> None:\n",
    "        super().on_completed()\n",
    "\n",
    "    def publish(self, value: typing.Type[TEventDatum]) -> None:\n",
    "        self.on_next(value)\n",
    "\n",
    "    def dispose(self) -> None:\n",
    "        super().dispose()\n"
   ]
  },
  {
   "cell_type": "markdown",
   "id": "integrated-gazette",
   "metadata": {},
   "source": [
    "# 🏃 Running\n",
    "\n",
    "A few quick examples to show how to use these functions"
   ]
  },
  {
   "cell_type": "code",
   "execution_count": null,
   "id": "fancy-helicopter",
   "metadata": {},
   "outputs": [],
   "source": [
    "if __name__ == \"__main__\":\n",
    "    rx.from_([1, 2, 3, 4, 5]).subscribe(PrintingObserverSubscriber(False))\n",
    "    rx.from_([1, 2, 3, 4, 5]).pipe(\n",
    "        ops.filter(lambda item: (item % 2) == 0),\n",
    "    ).subscribe(PrintingObserverSubscriber(False))\n",
    "\n",
    "    collector = CollectingObserverSubscriber()\n",
    "    rx.from_([\"a\", \"b\", \"c\"]).subscribe(collector)\n",
    "    print(collector.collected)\n",
    "\n",
    "    rx.from_([1, 2, 3, 4, 5]).pipe(\n",
    "        ops.map(debug_print_item(\"Before even check:\")),\n",
    "        ops.filter(lambda item: (item % 2) == 0),\n",
    "        ops.map(debug_print_item(\"After even check:\")),\n",
    "    ).subscribe(PrintingObserverSubscriber(True))\n"
   ]
  }
 ],
 "metadata": {
  "kernelspec": {
   "display_name": "Python 3",
   "language": "python",
   "name": "python3"
  },
  "language_info": {
   "codemirror_mode": {
    "name": "ipython",
    "version": 3
   },
   "file_extension": ".py",
   "mimetype": "text/x-python",
   "name": "python",
   "nbconvert_exporter": "python",
   "pygments_lexer": "ipython3",
   "version": "3.8.6"
  },
  "toc": {
   "base_numbering": 1,
   "nav_menu": {},
   "number_sections": true,
   "sideBar": true,
   "skip_h1_title": false,
   "title_cell": "Table of Contents",
   "title_sidebar": "Contents",
   "toc_cell": false,
   "toc_position": {},
   "toc_section_display": true,
   "toc_window_display": true
  },
  "varInspector": {
   "cols": {
    "lenName": 16,
    "lenType": 16,
    "lenVar": 40
   },
   "kernels_config": {
    "python": {
     "delete_cmd_postfix": "",
     "delete_cmd_prefix": "del ",
     "library": "var_list.py",
     "varRefreshCmd": "print(var_dic_list())"
    },
    "r": {
     "delete_cmd_postfix": ") ",
     "delete_cmd_prefix": "rm(",
     "library": "var_list.r",
     "varRefreshCmd": "cat(var_dic_list()) "
    }
   },
   "types_to_exclude": [
    "module",
    "function",
    "builtin_function_or_method",
    "instance",
    "_Feature"
   ],
   "window_display": false
  }
 },
 "nbformat": 4,
 "nbformat_minor": 5
}
