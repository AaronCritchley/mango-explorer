{
 "cells": [
  {
   "cell_type": "markdown",
   "id": "italic-cowboy",
   "metadata": {},
   "source": [
    "# ⚠ Warning\n",
    "\n",
    "THE SOFTWARE IS PROVIDED \"AS IS\", WITHOUT WARRANTY OF ANY KIND, EXPRESS OR IMPLIED, INCLUDING BUT NOT LIMITED TO THE WARRANTIES OF MERCHANTABILITY, FITNESS FOR A PARTICULAR PURPOSE AND NONINFRINGEMENT. IN NO EVENT SHALL THE AUTHORS OR COPYRIGHT HOLDERS BE LIABLE FOR ANY CLAIM, DAMAGES OR OTHER LIABILITY, WHETHER IN AN ACTION OF CONTRACT, TORT OR OTHERWISE, ARISING FROM, OUT OF OR IN CONNECTION WITH THE SOFTWARE OR THE USE OR OTHER DEALINGS IN THE SOFTWARE.\n",
    "\n",
    "[![Binder](https://mybinder.org/badge_logo.svg)](https://mybinder.org/v2/gl/OpinionatedGeek%2Fmango-explorer/HEAD?filepath=Observables.ipynb) _🏃‍♀️ To run this notebook press the ⏩ icon in the toolbar above._\n",
    "\n",
    "[🥭 Mango Markets](https://mango.markets/) support is available at: [Docs](https://docs.mango.markets/) | [Discord](https://discord.gg/67jySBhxrg) | [Twitter](https://twitter.com/mangomarkets) | [Github](https://github.com/blockworks-foundation) | [Email](mailto:hello@blockworks.foundation)"
   ]
  },
  {
   "cell_type": "markdown",
   "id": "ethical-notebook",
   "metadata": {},
   "source": [
    "# 🥭 Observables\n",
    "\n",
    "This notebook contains some useful shared tools to work with [RX Observables](https://rxpy.readthedocs.io/en/latest/reference_observable.html).\n"
   ]
  },
  {
   "cell_type": "code",
   "execution_count": null,
   "id": "earned-commerce",
   "metadata": {},
   "outputs": [],
   "source": [
    "import logging\n",
    "import rx\n",
    "import rx.operators as ops\n",
    "import typing\n"
   ]
  },
  {
   "cell_type": "markdown",
   "id": "unlikely-pressing",
   "metadata": {},
   "source": [
    "# printing_observer function\n",
    "\n",
    "This function returns an object that can subscribe to an `Observable` and print out each item."
   ]
  },
  {
   "cell_type": "code",
   "execution_count": null,
   "id": "cordless-league",
   "metadata": {},
   "outputs": [],
   "source": [
    "def printing_observer() -> rx.core.typing.Observer:\n",
    "    class PrintingObserverSubscriber(rx.core.typing.Observer):\n",
    "        def __init__(self) -> None:\n",
    "            self.something_output = False\n",
    "\n",
    "        def on_next(self, item: typing.Any) -> None:\n",
    "            self.something_output = True\n",
    "            print(item)\n",
    "\n",
    "        def on_error(self, ex: Exception) -> None:\n",
    "            self.something_output = True\n",
    "            print(ex)\n",
    "\n",
    "        def on_completed(self) -> None:\n",
    "            if not self.something_output:\n",
    "                print(\"No items to show.\")\n",
    "\n",
    "    return PrintingObserverSubscriber()\n"
   ]
  },
  {
   "cell_type": "markdown",
   "id": "complex-syntax",
   "metadata": {},
   "source": [
    "# CollectingObserverSubscriber class\n",
    "\n",
    "This class can subscribe to an `Observable` and collect each item."
   ]
  },
  {
   "cell_type": "code",
   "execution_count": null,
   "id": "little-garage",
   "metadata": {},
   "outputs": [],
   "source": [
    "class CollectingObserverSubscriber(rx.core.typing.Observer):\n",
    "    def __init__(self) -> None:\n",
    "        self.logger: logging.Logger = logging.getLogger(self.__class__.__name__)\n",
    "        self.collected: typing.List[typing.Any] = []\n",
    "\n",
    "    def on_next(self, item: typing.Any) -> None:\n",
    "        self.collected += [item]\n",
    "\n",
    "    def on_error(self, ex: Exception) -> None:\n",
    "        self.logger.error(f\"Received error: {ex}\")\n",
    "\n",
    "    def on_completed(self) -> None:\n",
    "        pass\n"
   ]
  },
  {
   "cell_type": "markdown",
   "id": "aggressive-retrieval",
   "metadata": {},
   "source": [
    "## debug_print_item function\n",
    "\n",
    "This is a handy item that can be added to a pipeline to show what is being passed at that particular stage. For example, this shows how to print the item before and after filtering:\n",
    "```\n",
    "fetch().pipe(\n",
    "    ops.map(debug_print_item(\"Unfiltered:\")),\n",
    "    ops.filter(lambda item: item.something is not None),\n",
    "    ops.map(debug_print_item(\"Filtered:\")),\n",
    "    ops.filter(lambda item: item.something_else()),\n",
    "    ops.map(act_on_item)\n",
    ").subscribe(some_subscriber)\n",
    "```"
   ]
  },
  {
   "cell_type": "code",
   "execution_count": null,
   "id": "selected-boulder",
   "metadata": {},
   "outputs": [],
   "source": [
    "def debug_print_item(title: str) -> typing.Callable[[typing.Any], typing.Any]:\n",
    "    def _debug_print_item(item: typing.Any) -> typing.Any:\n",
    "        print(title, item)\n",
    "        return item\n",
    "    return _debug_print_item\n"
   ]
  },
  {
   "cell_type": "markdown",
   "id": "valued-broadway",
   "metadata": {},
   "source": [
    "# 🏃 Running\n",
    "\n",
    "A few quick examples to show how to use these functions"
   ]
  },
  {
   "cell_type": "code",
   "execution_count": null,
   "id": "beautiful-winning",
   "metadata": {},
   "outputs": [],
   "source": [
    "if __name__ == \"__main__\":\n",
    "    rx.from_([1, 2, 3, 4, 5]).subscribe(printing_observer())\n",
    "    rx.from_([1, 2, 3, 4, 5]).pipe(\n",
    "        ops.filter(lambda item: (item % 2) == 0),\n",
    "    ).subscribe(printing_observer())\n",
    "\n",
    "    collector = CollectingObserverSubscriber()\n",
    "    rx.from_([\"a\", \"b\", \"c\"]).subscribe(collector)\n",
    "    print(collector.collected)\n",
    "\n",
    "    rx.from_([1, 2, 3, 4, 5]).pipe(\n",
    "        ops.map(debug_print_item(\"Before even check:\")),\n",
    "        ops.filter(lambda item: (item % 2) == 0),\n",
    "        ops.map(debug_print_item(\"After even check:\")),\n",
    "    ).subscribe(printing_observer())\n"
   ]
  }
 ],
 "metadata": {
  "kernelspec": {
   "display_name": "Python 3",
   "language": "python",
   "name": "python3"
  },
  "language_info": {
   "codemirror_mode": {
    "name": "ipython",
    "version": 3
   },
   "file_extension": ".py",
   "mimetype": "text/x-python",
   "name": "python",
   "nbconvert_exporter": "python",
   "pygments_lexer": "ipython3",
   "version": "3.8.6"
  },
  "toc": {
   "base_numbering": 1,
   "nav_menu": {},
   "number_sections": true,
   "sideBar": true,
   "skip_h1_title": false,
   "title_cell": "Table of Contents",
   "title_sidebar": "Contents",
   "toc_cell": false,
   "toc_position": {},
   "toc_section_display": true,
   "toc_window_display": true
  },
  "varInspector": {
   "cols": {
    "lenName": 16,
    "lenType": 16,
    "lenVar": 40
   },
   "kernels_config": {
    "python": {
     "delete_cmd_postfix": "",
     "delete_cmd_prefix": "del ",
     "library": "var_list.py",
     "varRefreshCmd": "print(var_dic_list())"
    },
    "r": {
     "delete_cmd_postfix": ") ",
     "delete_cmd_prefix": "rm(",
     "library": "var_list.r",
     "varRefreshCmd": "cat(var_dic_list()) "
    }
   },
   "types_to_exclude": [
    "module",
    "function",
    "builtin_function_or_method",
    "instance",
    "_Feature"
   ],
   "window_display": false
  }
 },
 "nbformat": 4,
 "nbformat_minor": 5
}
