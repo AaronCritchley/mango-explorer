{
 "cells": [
  {
   "cell_type": "markdown",
   "id": "pointed-polish",
   "metadata": {},
   "source": [
    "# ⚠ Warning\n",
    "\n",
    "THE SOFTWARE IS PROVIDED \"AS IS\", WITHOUT WARRANTY OF ANY KIND, EXPRESS OR IMPLIED, INCLUDING BUT NOT LIMITED TO THE WARRANTIES OF MERCHANTABILITY, FITNESS FOR A PARTICULAR PURPOSE AND NONINFRINGEMENT. IN NO EVENT SHALL THE AUTHORS OR COPYRIGHT HOLDERS BE LIABLE FOR ANY CLAIM, DAMAGES OR OTHER LIABILITY, WHETHER IN AN ACTION OF CONTRACT, TORT OR OTHERWISE, ARISING FROM, OUT OF OR IN CONNECTION WITH THE SOFTWARE OR THE USE OR OTHER DEALINGS IN THE SOFTWARE.\n",
    "\n",
    "[![Binder](https://mybinder.org/badge_logo.svg)](https://mybinder.org/v2/gl/OpinionatedGeek%2Fmango-explorer/HEAD?filepath=ShowGroup.ipynb) _🏃‍♀️ To run this notebook press the ⏩ icon in the toolbar above._\n",
    "\n",
    "[🥭 Mango Markets](https://mango.markets/) support is available at: [Docs](https://docs.mango.markets/) | [Discord](https://discord.gg/67jySBhxrg) | [Twitter](https://twitter.com/mangomarkets) | [Github](https://github.com/blockworks-foundation) | [Email](mailto:hello@blockworks.foundation)"
   ]
  },
  {
   "cell_type": "markdown",
   "id": "authorized-channel",
   "metadata": {},
   "source": [
    "# 🥭 Show Group\n",
    "\n",
    "This notebook tries to display information about a specific Mango Markets group.\n",
    "\n",
    "It fetches the data from Solana, parses it, and then prints it.\n"
   ]
  },
  {
   "cell_type": "markdown",
   "id": "quality-magnet",
   "metadata": {},
   "source": [
    "## How To Use This Page\n",
    "\n",
    "Enter the name of the group you want to check in the value for `GROUP_TO_LOOK_UP` in the box below, between the double-quote marks. Then run the notebook by choosing 'Run > Run All Cells' from the notebook menu at the top of the page."
   ]
  },
  {
   "cell_type": "code",
   "execution_count": 1,
   "id": "young-exclusion",
   "metadata": {},
   "outputs": [],
   "source": [
    "GROUP_TO_LOOK_UP = \"BTC_ETH_SOL_SRM_USDC\""
   ]
  },
  {
   "cell_type": "code",
   "execution_count": 2,
   "id": "strange-crack",
   "metadata": {},
   "outputs": [
    {
     "name": "stdout",
     "output_type": "stream",
     "text": [
      "\n",
      "« Group [Version.V2] 2oogpTYm1sp6LPZAWD3bp2wsFpnV2kXL1s52yyFhW5vp:\n",
      "    Flags: « MangoAccountFlags: initialized | group »\n",
      "    Base Tokens:\n",
      "        « BasketToken:\n",
      "            « Token 'Wrapped Bitcoin (Sollet)' [9n4nbM75f5Ui33ZbPYXn59EwSgE8CGsHtAeTH5YFeJ9E (6 decimals)] »\n",
      "            Vault: ET8VKKD1v11oiotUDf8KgcxxbkXiSBRnkDNMotpc8VB1\n",
      "            Index: « Index [2021-06-07 07:51:47]: Borrow: 0.00000100, Deposit: 0.00000100 »\n",
      "        »\n",
      "        « BasketToken:\n",
      "            « Token 'Wrapped Ethereum (Sollet)' [2FPyTwcZLUg1MDrwsyoP4D6s1tM7hAkHYRjkNb5w6Pxk (6 decimals)] »\n",
      "            Vault: 4Yivi3q3MMsUHUWi7pM7PTjS5jDRwRCXorQ35UErgYiW\n",
      "            Index: « Index [2021-06-07 07:51:47]: Borrow: 0.00000100, Deposit: 0.00000100 »\n",
      "        »\n",
      "        « BasketToken:\n",
      "            « Token 'Wrapped SOL' [So11111111111111111111111111111111111111112 (9 decimals)] »\n",
      "            Vault: HeeaULKeHY4mXbT1NRk8b2XQuBS1A2PT2uRLT6i8u66B\n",
      "            Index: « Index [2021-06-07 07:51:47]: Borrow: 0.00000000, Deposit: 0.00000000 »\n",
      "        »\n",
      "        « BasketToken:\n",
      "            « Token 'Serum' [SRMuApVNdxXokk5GT7XD5cUUgXMBCoAz2LHeuAoKWRt (6 decimals)] »\n",
      "            Vault: BQEfNrLLjHG6kzHVDX6pnSkg9BaUAx6yUVZWZ9wTBe2Z\n",
      "            Index: « Index [2021-06-07 07:51:47]: Borrow: 0.00000100, Deposit: 0.00000100 »\n",
      "        »\n",
      "    Quote Token:\n",
      "        « BasketToken:\n",
      "            « Token 'USD Coin' [EPjFWdd5AufqSSqeM2qN1xzybapC8G4wEGGkZwyTDt1v (6 decimals)] »\n",
      "            Vault: 24PQCo4H9gkiqrN9n5qmLBb3fg5A4G9mistXWMCnVCqW\n",
      "            Index: « Index [2021-06-07 07:51:47]: Borrow: 0.00000100, Deposit: 0.00000100 »\n",
      "        »\n",
      "    Markets:\n",
      "        « Market 'BTC/USDC' [A8YFbxQYFVqKZaoYJLLUVcQiWP7G2MeEgW5wsAQgMvFw/A8YFbxQYFVqKZaoYJLLUVcQiWP7G2MeEgW5wsAQgMvFw]:\n",
      "            Base: « BasketToken:\n",
      "                « Token 'Wrapped Bitcoin (Sollet)' [9n4nbM75f5Ui33ZbPYXn59EwSgE8CGsHtAeTH5YFeJ9E (6 decimals)] »\n",
      "                Vault: ET8VKKD1v11oiotUDf8KgcxxbkXiSBRnkDNMotpc8VB1\n",
      "                Index: « Index [2021-06-07 07:51:47]: Borrow: 0.00000100, Deposit: 0.00000100 »\n",
      "            »\n",
      "            Quote: « BasketToken:\n",
      "                « Token 'USD Coin' [EPjFWdd5AufqSSqeM2qN1xzybapC8G4wEGGkZwyTDt1v (6 decimals)] »\n",
      "                Vault: 24PQCo4H9gkiqrN9n5qmLBb3fg5A4G9mistXWMCnVCqW\n",
      "                Index: « Index [2021-06-07 07:51:47]: Borrow: 0.00000100, Deposit: 0.00000100 »\n",
      "            »\n",
      "            Oracle: HxrRDnjj2Ltj9LMmtcN6PDuFqnDe3FqXDHPvs2pwmtYF (2 decimals)\n",
      "        »\n",
      "        « Market 'ETH/USDC' [4tSvZvnbyzHXLMTiFonMyxZoHmFqau1XArcRCVHLZ5gX/4tSvZvnbyzHXLMTiFonMyxZoHmFqau1XArcRCVHLZ5gX]:\n",
      "            Base: « BasketToken:\n",
      "                « Token 'Wrapped Ethereum (Sollet)' [2FPyTwcZLUg1MDrwsyoP4D6s1tM7hAkHYRjkNb5w6Pxk (6 decimals)] »\n",
      "                Vault: 4Yivi3q3MMsUHUWi7pM7PTjS5jDRwRCXorQ35UErgYiW\n",
      "                Index: « Index [2021-06-07 07:51:47]: Borrow: 0.00000100, Deposit: 0.00000100 »\n",
      "            »\n",
      "            Quote: « BasketToken:\n",
      "                « Token 'USD Coin' [EPjFWdd5AufqSSqeM2qN1xzybapC8G4wEGGkZwyTDt1v (6 decimals)] »\n",
      "                Vault: 24PQCo4H9gkiqrN9n5qmLBb3fg5A4G9mistXWMCnVCqW\n",
      "                Index: « Index [2021-06-07 07:51:47]: Borrow: 0.00000100, Deposit: 0.00000100 »\n",
      "            »\n",
      "            Oracle: 7rW5nJbAYj6m3zkr1CPPSMirTRYBZYWQUv7ZggVVt2wA (2 decimals)\n",
      "        »\n",
      "        « Market 'SOL/USDC' [9wFFyRfZBsuAha4YcuxcXLKwMxJR43S7fPfQLusDBzvT/9wFFyRfZBsuAha4YcuxcXLKwMxJR43S7fPfQLusDBzvT]:\n",
      "            Base: « BasketToken:\n",
      "                « Token 'Wrapped SOL' [So11111111111111111111111111111111111111112 (9 decimals)] »\n",
      "                Vault: HeeaULKeHY4mXbT1NRk8b2XQuBS1A2PT2uRLT6i8u66B\n",
      "                Index: « Index [2021-06-07 07:51:47]: Borrow: 0.00000000, Deposit: 0.00000000 »\n",
      "            »\n",
      "            Quote: « BasketToken:\n",
      "                « Token 'USD Coin' [EPjFWdd5AufqSSqeM2qN1xzybapC8G4wEGGkZwyTDt1v (6 decimals)] »\n",
      "                Vault: 24PQCo4H9gkiqrN9n5qmLBb3fg5A4G9mistXWMCnVCqW\n",
      "                Index: « Index [2021-06-07 07:51:47]: Borrow: 0.00000100, Deposit: 0.00000100 »\n",
      "            »\n",
      "            Oracle: A12sJL3w4rgnbeg7pyAQ8xhuNVbQEWdqN1dgwBoEktvm (4 decimals)\n",
      "        »\n",
      "        « Market 'SRM/USDC' [ByRys5tuUWDgL73G8JBAEfkdFf8JWBzPBDHsBVQ5vbQA/ByRys5tuUWDgL73G8JBAEfkdFf8JWBzPBDHsBVQ5vbQA]:\n",
      "            Base: « BasketToken:\n",
      "                « Token 'Serum' [SRMuApVNdxXokk5GT7XD5cUUgXMBCoAz2LHeuAoKWRt (6 decimals)] »\n",
      "                Vault: BQEfNrLLjHG6kzHVDX6pnSkg9BaUAx6yUVZWZ9wTBe2Z\n",
      "                Index: « Index [2021-06-07 07:51:47]: Borrow: 0.00000100, Deposit: 0.00000100 »\n",
      "            »\n",
      "            Quote: « BasketToken:\n",
      "                « Token 'USD Coin' [EPjFWdd5AufqSSqeM2qN1xzybapC8G4wEGGkZwyTDt1v (6 decimals)] »\n",
      "                Vault: 24PQCo4H9gkiqrN9n5qmLBb3fg5A4G9mistXWMCnVCqW\n",
      "                Index: « Index [2021-06-07 07:51:47]: Borrow: 0.00000100, Deposit: 0.00000100 »\n",
      "            »\n",
      "            Oracle: CM6RrPrtUo8W5DVnhwKnQVMAXiWam8vKdxVacrC3a9x6 (4 decimals)\n",
      "        »\n",
      "    DEX Program ID: « 9xQeWvG816bUx9EPjHmaT23yvVM2ZWbrrpZb9PusVFin »\n",
      "    SRM Vault: « BQEfNrLLjHG6kzHVDX6pnSkg9BaUAx6yUVZWZ9wTBe2Z »\n",
      "    Admin: « FinVobfi4tbdMdfN9jhzUuDVqGXfcFnRGX57xHcTWLfW »\n",
      "    Signer Nonce: 0\n",
      "    Signer Key: « EgRvS8NJGNDYngccUG38sb4zmkjC3dAyLKuNuLn3dX6w »\n",
      "    Initial Collateral Ratio: 1.20\n",
      "    Maintenance Collateral Ratio: 1.10\n",
      "    Total Deposits:\n",
      "        90118\n",
      "        1001000.00003136111235012192235624418\n",
      "        16481998694.1428658641904714699942709\n",
      "        1310900000\n",
      "        3340523836.34110272669966652911606453\n",
      "    Total Borrows:\n",
      "        0\n",
      "        2000\n",
      "        100000000\n",
      "        0\n",
      "        43394317.4707347876226995078523251959\n",
      "    Borrow Limits:\n",
      "        0\n",
      "        0\n",
      "        0\n",
      "        0\n",
      "        0\n",
      "»\n",
      "\n"
     ]
    }
   ],
   "source": [
    "if __name__ == \"__main__\":\n",
    "    import mango\n",
    "\n",
    "    if GROUP_TO_LOOK_UP == \"\":\n",
    "        raise Exception(\"No group to look up - try setting the variable GROUP_TO_LOOK_UP to an group's public key.\")\n",
    "\n",
    "    context = mango.default_context.new_from_group_name(GROUP_TO_LOOK_UP)\n",
    "    group = mango.Group.load(context)\n",
    "    print(group)\n"
   ]
  }
 ],
 "metadata": {
  "kernelspec": {
   "display_name": "Python 3",
   "language": "python",
   "name": "python3"
  },
  "language_info": {
   "codemirror_mode": {
    "name": "ipython",
    "version": 3
   },
   "file_extension": ".py",
   "mimetype": "text/x-python",
   "name": "python",
   "nbconvert_exporter": "python",
   "pygments_lexer": "ipython3",
   "version": "3.8.6"
  },
  "metadata": {
   "interpreter": {
    "hash": "ac2eaa0ea0ebeafcc7822e65e46aa9d4f966f30b695406963e145ea4a91cd4fc"
   }
  },
  "toc": {
   "base_numbering": 1,
   "nav_menu": {},
   "number_sections": true,
   "sideBar": true,
   "skip_h1_title": false,
   "title_cell": "Table of Contents",
   "title_sidebar": "Contents",
   "toc_cell": false,
   "toc_position": {},
   "toc_section_display": true,
   "toc_window_display": true
  },
  "varInspector": {
   "cols": {
    "lenName": 16,
    "lenType": 16,
    "lenVar": 40
   },
   "kernels_config": {
    "python": {
     "delete_cmd_postfix": "",
     "delete_cmd_prefix": "del ",
     "library": "var_list.py",
     "varRefreshCmd": "print(var_dic_list())"
    },
    "r": {
     "delete_cmd_postfix": ") ",
     "delete_cmd_prefix": "rm(",
     "library": "var_list.r",
     "varRefreshCmd": "cat(var_dic_list()) "
    }
   },
   "types_to_exclude": [
    "module",
    "function",
    "builtin_function_or_method",
    "instance",
    "_Feature"
   ],
   "window_display": false
  }
 },
 "nbformat": 4,
 "nbformat_minor": 5
}
