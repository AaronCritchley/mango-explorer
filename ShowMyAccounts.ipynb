{
 "cells": [
  {
   "cell_type": "markdown",
   "id": "acute-worker",
   "metadata": {},
   "source": [
    "# 🥭 Show My Accounts\n",
    "\n",
    "This notebook tries to display information about all Mango margin accounts that belong to a specified account.\n",
    "\n",
    "It fetches the data from Solana, parses it, and then prints it.\n"
   ]
  },
  {
   "cell_type": "markdown",
   "id": "blessed-concentration",
   "metadata": {},
   "source": [
    "## How To Use This Page\n",
    "\n",
    "Enter the public key of the account you want to check in the value for `ACCOUNT_TO_LOOK_UP` in the box below, between the double-quote marks. Then run the notebook by choosing 'Run > Run All Cells' from the notebook menu at the top of the page."
   ]
  },
  {
   "cell_type": "code",
   "execution_count": null,
   "id": "lonely-graham",
   "metadata": {},
   "outputs": [],
   "source": [
    "ACCOUNT_TO_LOOK_UP = \"\""
   ]
  },
  {
   "cell_type": "code",
   "execution_count": null,
   "id": "prescription-basics",
   "metadata": {},
   "outputs": [],
   "source": [
    "from solana.publickey import PublicKey\n",
    "from Context import default_context\n",
    "from Classes import AccountInfo, Group, MarginAccount\n",
    "\n",
    "print(\"Context:\", default_context);\n",
    "\n",
    "root_account_key = PublicKey(ACCOUNT_TO_LOOK_UP)\n",
    "root_account = AccountInfo.load(default_context, root_account_key)\n",
    "print(\"My account:\", root_account)\n",
    "\n",
    "group = Group.load(default_context)\n",
    "# print(\"Group:\", group)\n",
    "\n",
    "prices = group.get_prices()\n",
    "\n",
    "my_margin_accounts = MarginAccount.load_all_for_owner(default_context, default_context.program_id, group, root_account_key)\n",
    "for my_margin_account in my_margin_accounts:\n",
    "    print(\"My margin account:\", my_margin_account)\n",
    "    print(my_margin_account.get_balance_sheet(group, prices))\n"
   ]
  }
 ],
 "metadata": {
  "kernelspec": {
   "display_name": "Python 3",
   "language": "python",
   "name": "python3"
  },
  "language_info": {
   "codemirror_mode": {
    "name": "ipython",
    "version": 3
   },
   "file_extension": ".py",
   "mimetype": "text/x-python",
   "name": "python",
   "nbconvert_exporter": "python",
   "pygments_lexer": "ipython3",
   "version": "3.8.6"
  }
 },
 "nbformat": 4,
 "nbformat_minor": 5
}
